{
 "cells": [
  {
   "cell_type": "code",
   "execution_count": 2,
   "id": "658b1575-7ed3-46ec-b2d6-db4dfc1965eb",
   "metadata": {},
   "outputs": [],
   "source": [
    "import csv\n",
    "import gzip\n",
    "import os\n",
    "from collections import defaultdict\n",
    "\n",
    "# Define the path\n",
    "path = os.getcwd()\n",
    "# path = os.path.join(current_path, \"..\", \"data\", \"IR\")\n",
    "\n",
    "# Paths to files\n",
    "queries_file = os.path.join(path, \"msmarco-doctrain-queries.tsv\")\n",
    "rankings_file = os.path.join(path, \"msmarco-doctrain-top100\")\n",
    "docs_lookup_file = os.path.join(path, \"msmarco-docs-lookup.tsv\")\n",
    "\n"
   ]
  },
  {
   "cell_type": "code",
   "execution_count": 3,
   "id": "637977e8-023e-4351-8b7f-9591fec69968",
   "metadata": {},
   "outputs": [
    {
     "name": "stdout",
     "output_type": "stream",
     "text": [
      "367013\n"
     ]
    },
    {
     "name": "stderr",
     "output_type": "stream",
     "text": [
      "Exception ignored in: <bound method IPythonKernel._clean_thread_parent_frames of <ipykernel.ipkernel.IPythonKernel object at 0x1117b7890>>\n",
      "Traceback (most recent call last):\n",
      "  File \"/opt/anaconda3/lib/python3.12/site-packages/ipykernel/ipkernel.py\", line 775, in _clean_thread_parent_frames\n",
      "    def _clean_thread_parent_frames(\n",
      "\n",
      "KeyboardInterrupt: \n"
     ]
    },
    {
     "name": "stdout",
     "output_type": "stream",
     "text": [
      "367012\n"
     ]
    }
   ],
   "source": [
    "\n",
    "# Step 1: Load Queries\n",
    "\n",
    "query_dict = {}\n",
    "with open( queries_file, 'rt', encoding='utf8') as f:\n",
    "    tsvreader = csv.reader(f, delimiter=\"\\t\")\n",
    "    for [qid, query] in tsvreader:\n",
    "        query_dict[qid] = query\n",
    "print(len(query_dict))\n",
    "\n",
    "# Step 2: Load Rankings\n",
    "ranking_dict = defaultdict(list)\n",
    "with open(rankings_file, \"rt\", encoding=\"utf-8\") as f:\n",
    "    for line in f:\n",
    "        qid, _, docid, rank, score, _ = line.split(\" \")\n",
    "        ranking_dict[qid].append((int(rank), docid,score))\n",
    "\n",
    "print(len(ranking_dict))"
   ]
  },
  {
   "cell_type": "code",
   "execution_count": 4,
   "id": "74f5d46d-9924-4f5e-bf44-9b84d8f8ec5e",
   "metadata": {},
   "outputs": [],
   "source": [
    "# Optional Step: Load Document Offsets (if document content is needed)\n",
    "doc_offsets = {}\n",
    "with open(docs_lookup_file, \"r\", encoding=\"utf-8\") as f:\n",
    "    tsvreader = csv.reader(f, delimiter=\"\\t\")\n",
    "    for docid, _, offset in tsvreader:\n",
    "        doc_offsets[docid] = int(offset)\n",
    "        "
   ]
  },
  {
   "cell_type": "code",
   "execution_count": 34,
   "id": "83270566-958b-461a-90a3-73c299d07545",
   "metadata": {},
   "outputs": [],
   "source": [
    "docs_file = os.path.join(path, \"msmarco-docs.tsv\")\n",
    "def get_doc_content(docid, file_path):\n",
    "    \"\"\"\n",
    "    Retrieve the document content using offsets from a TSV file.\n",
    "    Handles lines with unexpected formats gracefully.\n",
    "    \"\"\"\n",
    "    with open(file_path, \"rt\", encoding=\"utf-8\") as f:\n",
    "        try:\n",
    "            # Move the file pointer to the position specified by the offset for this document ID\n",
    "            f.seek(doc_offsets[docid])\n",
    "\n",
    "        \n",
    "            # Read the line corresponding to the document content\n",
    "            line = f.readline()\n",
    "            \n",
    "            # Split the line into components: docid, url, title, and body\n",
    "            parts = line.split(\"\\t\", maxsplit=3)\n",
    "            if len(parts) != 4:\n",
    "                raise ValueError(f\"Malformed line: {line}\")\n",
    "\n",
    "            docid, url, title, body = parts\n",
    "        \n",
    "\n",
    "            # Return the components as a tuple\n",
    "            return body\n",
    "        except Exception as e:\n",
    "            print(f\"Error processing docid {docid}: {e}\")\n",
    "            return None  # Return None or a default value for malformed lines\n"
   ]
  },
  {
   "cell_type": "markdown",
   "id": "76180085-6c21-472f-ac8c-8138945ef990",
   "metadata": {
    "jp-MarkdownHeadingCollapsed": true
   },
   "source": [
    "# load all rank and id"
   ]
  },
  {
   "cell_type": "code",
   "execution_count": 9,
   "id": "2df53290-55d4-4770-bb12-1550a1deedd1",
   "metadata": {},
   "outputs": [],
   "source": [
    "\n",
    "# Step 4: Write Ranked Output\n",
    "output_file = os.path.join(path, \"ranked_output.tsv\")\n",
    "with open(output_file, \"w\", encoding=\"utf-8\") as out:\n",
    "    tsvwriter = csv.writer(out, delimiter=\"\\t\")\n",
    "    \n",
    "    for qid, ranked_docs in ranking_dict.items():\n",
    "\n",
    "        ranked_docs.sort()  # Ensure ranks are in order\n",
    "\n",
    "        row = [qid, query_dict[qid]]  # Start row with qid and query\n",
    "        for rank, docid,score in ranked_docs:\n",
    "            row.extend([docid, rank])  # Add docid and rank\n",
    "        tsvwriter.writerow(row)"
   ]
  },
  {
   "cell_type": "markdown",
   "id": "eb80dfae-c399-4021-8243-cc5ca2faae7e",
   "metadata": {
    "jp-MarkdownHeadingCollapsed": true
   },
   "source": [
    "# Load top 5 rank and id"
   ]
  },
  {
   "cell_type": "code",
   "execution_count": 10,
   "id": "ab33da9b-3326-4b0c-88e8-ab3366ab673c",
   "metadata": {},
   "outputs": [],
   "source": [
    "# Step 4: Write Ranked Output\n",
    "limit = 5\n",
    "output_file = os.path.join(path, \"ranked_output_limited.tsv\")\n",
    "with open(output_file, \"w\", encoding=\"utf-8\") as out:\n",
    "    tsvwriter = csv.writer(out, delimiter=\"\\t\")\n",
    "    \n",
    "    for qid, ranked_docs in ranking_dict.items():\n",
    "\n",
    "        ranked_docs.sort()  # Ensure ranks are in order\n",
    "\n",
    "        row = [qid, query_dict[qid]]  # Start row with qid and query\n",
    "        i = 0\n",
    "        for rank, docid,score in ranked_docs:\n",
    "            if i >= 5:\n",
    "                break\n",
    "            row.extend([rank,docid])  # Add docid and rank\n",
    "            \n",
    "            i+= 1\n",
    "        tsvwriter.writerow(row)"
   ]
  },
  {
   "cell_type": "markdown",
   "id": "ef697a56-bf19-419e-afcd-d0de52e10edf",
   "metadata": {
    "jp-MarkdownHeadingCollapsed": true
   },
   "source": [
    "# Load all top 3 rank and doc"
   ]
  },
  {
   "cell_type": "code",
   "execution_count": 23,
   "id": "55dd020e-7fb7-4e4d-b48a-66eea0d6de14",
   "metadata": {},
   "outputs": [
    {
     "name": "stderr",
     "output_type": "stream",
     "text": [
      "Processing Queries: 100%|███████████| 367012/367012 [12:29<00:00, 489.44query/s]\n"
     ]
    }
   ],
   "source": [
    "from tqdm import tqdm\n",
    "\n",
    "# Limit the number of results\n",
    "limit = 5\n",
    "output_file = os.path.join(path, \"ranked_output_content.tsv\")\n",
    "\n",
    "with open(output_file, \"w\", encoding=\"utf-8\") as out:\n",
    "    tsvwriter = csv.writer(out, delimiter=\"\\t\")\n",
    "    \n",
    "    # Wrap ranking_dict.items() with tqdm for a progress bar\n",
    "    for qid, ranked_docs in tqdm(ranking_dict.items(), desc=\"Processing Queries\", unit=\"query\"):\n",
    "        \n",
    "        ranked_docs.sort()  # Ensure ranks are in order\n",
    "\n",
    "        row = [qid, query_dict[qid]]  # Start row with qid and query\n",
    "        i = 0\n",
    "        for rank, docid, score in ranked_docs:\n",
    "            if i >= limit:\n",
    "                break\n",
    "\n",
    "            doc_content = get_doc_content(docid, docs_file)\n",
    "\n",
    "            row.extend([rank, doc_content])  # Add rank and document content\n",
    "\n",
    "            i += 1\n",
    "\n",
    "        tsvwriter.writerow(row)\n"
   ]
  },
  {
   "cell_type": "markdown",
   "id": "25f1afbf-7ed7-4a7a-9c60-887abf0f6c07",
   "metadata": {},
   "source": [
    "# Output FIRST format:"
   ]
  },
  {
   "cell_type": "code",
   "execution_count": 35,
   "id": "99707e96-a8e9-4cc5-a8c0-6dcdfe85fb72",
   "metadata": {},
   "outputs": [],
   "source": [
    "import random\n",
    "def get_Conversations(query,docs):\n",
    "    \"\"\"\n",
    "    Generate a conversation structure for ranking passages.\n",
    "\n",
    "    Parameters:\n",
    "        docs (list): List of tuples where each tuple contains an id (string) and content (string).\n",
    "\n",
    "    Returns:\n",
    "        list: A structured conversation with system, human, and GPT messages.\n",
    "    \"\"\"\n",
    "    output = []\n",
    "\n",
    "    # Add system message\n",
    "    output.append({\n",
    "        \"from\": \"system\",\n",
    "        \"value\": \"You are RankLLM, an intelligent assistant that can rank passages based on their relevancy to the query.\"\n",
    "    })\n",
    "\n",
    "    # Shuffle document IDs\n",
    "    idslist = list(range(len(docs)))\n",
    "    random.shuffle(idslist)\n",
    "  \n",
    "    # Add AI's response (placeholder for ranking)\n",
    "    sample_ranking = \" > \".join([f\"[{ids}]\" for ids in idslist])  # Generate a sample ranking\n",
    "\n",
    "    # Create the passages\n",
    "    passages = [f\"[{idslist[i]}] {content}\" for i, (content) in enumerate(docs)]\n",
    "\n",
    "    # Shuffle the passages\n",
    "    random.shuffle(passages)\n",
    "\n",
    "    # Create the human message\n",
    "    human_message = (\n",
    "        f\"I will provide you with {len(passages)} passages, each indicated by a numerical identifier []. \"\n",
    "        f\"Rank the passages based on their relevance to the search query: {query}.\\n\\n\"\n",
    "    )\n",
    "    human_message += \"\\n\".join(passages)\n",
    "    human_message += (\n",
    "        f\"\\n\\nSearch Query: {query}\\nRank the {len(passages)} passages above based on their relevance to the search query. \"\n",
    "        \"All the passages should be included and listed using identifiers, in descending order of relevance. \"\n",
    "        \"The output format should be [] > [], e.g., [2] > [1], Only respond with the ranking results, do not say any word or explain.\"\n",
    "    )\n",
    "\n",
    "    output.append({\n",
    "        \"from\": \"human\",\n",
    "        \"value\": human_message\n",
    "    })\n",
    "\n",
    "    \n",
    "    output.append({\n",
    "        \"from\": \"gpt\",\n",
    "        \"value\": sample_ranking\n",
    "    })\n",
    "\n",
    "    return output\n"
   ]
  },
  {
   "cell_type": "code",
   "execution_count": 37,
   "id": "1b657346-67a1-4430-8a04-a066f7e7fe83",
   "metadata": {},
   "outputs": [
    {
     "name": "stderr",
     "output_type": "stream",
     "text": [
      "Processing Queries: 100%|███████████| 367012/367012 [07:59<00:00, 765.78query/s]\n"
     ]
    }
   ],
   "source": [
    "import os\n",
    "import json\n",
    "import uuid\n",
    "from tqdm import tqdm\n",
    "\n",
    "# Path and file name\n",
    "output_file = os.path.join(path, \"ranked_first.jsonl\")\n",
    "\n",
    "# Limit the number of results\n",
    "limit = 5\n",
    "\n",
    "# Assuming ranking_dict and query_dict are predefined\n",
    "# Wrap ranking_dict.items() with tqdm for a progress bar\n",
    "with open(output_file, 'w') as f:\n",
    "    for qid, ranked_docs in tqdm(ranking_dict.items(), desc=\"Processing Queries\", unit=\"query\"):\n",
    "        \n",
    "        ranked_docs.sort()  # Ensure ranks are in order\n",
    "\n",
    "        # Limit the number of documents\n",
    "        i = 0\n",
    "        list_doc =[]\n",
    "        \n",
    "        for rank, docid, score in ranked_docs:\n",
    "            if i >= limit:\n",
    "                break\n",
    "            doc_content = get_doc_content(docid, docs_file)  # Function to get document content\n",
    " \n",
    "            i += 1\n",
    "\n",
    "            list_doc.append(doc_content)\n",
    "            \n",
    "        \n",
    "        # Generate conversation data\n",
    "        conversation = get_Conversations(query_dict[qid], list_doc)  # Adjust as necessary\n",
    "   \n",
    "        # Generate a random string ID for the query\n",
    "        random_id = str(uuid.uuid4())  # Generate a unique ID for this query\n",
    "\n",
    "        # Initialize the row with the random ID, query id, and actual query\n",
    "        row = {\n",
    "            \"id\": random_id,  # Random ID\n",
    "            \"conversation\": conversation\n",
    "        }\n",
    "   \n",
    "        # Write the row to the JSONL file\n",
    "        f.write(json.dumps(row) + \"\\n\")\n"
   ]
  },
  {
   "cell_type": "markdown",
   "id": "944d2ec4-d20e-47c2-85e3-ebb7d5ffa3d7",
   "metadata": {},
   "source": [
    "# Read file"
   ]
  },
  {
   "cell_type": "code",
   "execution_count": 9,
   "id": "3929d57a-8805-47b7-8f0c-c92fe976e2e4",
   "metadata": {},
   "outputs": [
    {
     "name": "stdout",
     "output_type": "stream",
     "text": [
      "{'id': '9d2fef94-23b8-416b-a4c5-cb7ab35ea930', 'conversation': [{'from': 'system', 'value': 'You are RankLLM, an intelligent assistant that can rank passages based on their relevancy to the query.'}, {'from': 'human', 'value': 'I will provide you with 5 passages, each indicated by a numerical identifier []. Rank the passages based on their relevance to the search query: feeding rice cereal how many times per day.\\n\\n[1] \"Home > Health Library Feeding Guide for the First Year<< Back to Pediatrics Making appropriate food choices for your baby during the first year of life is very important. More growth occurs during the first year than at any other time in your child\\'s life. It\\'s important to feed your baby a variety of healthy foods at the proper time. Starting good eating habits at this early stage will help set healthy eating patterns for life. Recommended feeding guide for the first year Don\\'t give solid foods unless your child\\'s healthcare provider advises you to do so. Solid foods should not be started before age 4 months because: Breast milk or formula provides your baby all the nutrients that are needed for growth. Your baby isn\\'t physically developed enough to eat solid food from a spoon. Feeding your baby solid food too early may lead to overfeeding and being overweight. The American Academy of Pediatrics (AAP) recommends that all infants, children, and adolescents take in enough vitamin D through supplements, formula, or cow\\'s milk to prevent complications from deficiency of this vitamin. In November 2008, the AAP updated its recommendations for daily intake of vitamin D for healthy infants, children, and adolescents. It is now recommended that the minimum intake of vitamin D for these groups should be 400 IU per day, beginning soon after birth. Your baby\\'s healthcare provider can recommend the proper type and amount of vitamin D supplement for your baby. Guide for formula feeding (0 to 5 months)Age Amount of formula per feeding Number of feedings per 24 hours1 month2 to 4 ounces6 to 8 times2 months5 to 6 ounces5 to 6 times3 to 5 months6 to 7 ounces5 to 6 times Feeding tips for your child These are some things to consider when feeding your baby: When starting solid foods, give your baby one new food at a time — not mixtures (like cereal and fruit or meat dinners). Give the new food for 3 to 5 days before adding another new food. This way you can tell what foods your baby may be allergic to or can\\'t tolerate. Start with small amounts of new solid foods — a teaspoon at first and slowly increase to a tablespoon. Start with dry infant rice cereal first, mixed as directed, followed by vegetables, fruits, and then meats. Don\\'t use salt or sugar when making homemade infant foods. Canned foods may contain large amounts of salt and sugar and shouldn\\'t be used for baby food. Always wash and peel fruits and vegetables and remove seeds or pits. Take special care with fruits and vegetables that come into contact with the ground. They may contain botulism spores that cause food poisoning. Infant cereals with iron should be given to your infant until your infant is age 18 months. Cow\\'s milk shouldn\\'t be added to the diet until your infant is age 1. Cow\\'s milk doesn\\'t provide the proper nutrients for your baby. The AAP recommends not giving fruit juices to infants younger than 1 year old. Only pasteurized, 100% fruit juices (without added sugar) may be given to older infants and children, but should be limited to 4 ounces a day. Dilute the juice with water and offer it in a cup with a meal. Feed all food with a spoon. Your baby needs to learn to eat from a spoon. Don\\'t use an infant feeder. Only formula and water should go into the bottle. Avoid honey in any form for your child\\'s first year, as it can cause infant botulism. Don\\'t put your baby in bed with a bottle propped in his or her mouth. Propping a bottle has been linked to an increased risk of ear infections. Once your baby\\'s teeth are present, propping the bottle can also cause tooth decay. There is also a risk of choking. Help your baby to give up the bottle by his or her first birthday. Don\\'t make your child \"\"clean the plate.\"\" Forcing your child to eat all the food on his or her plate even when he or she isn\\'t hungry isn\\'t a good habit. It teaches your child to eat just because the food is there, not because he or she is hungry. Expect a smaller and pickier appetite as the baby\\'s growth rate slows around age 1. Infants and young children shouldn\\'t eat hot dogs, nuts, seeds, round candies, popcorn, hard, raw fruits and vegetables, grapes, or peanut butter. These foods aren\\'t safe and may cause your child to choke. Many healthcare providers suggest these foods be saved until after your child is age 3 or 4. Always watch a young child while he or she is eating. Insist that the child sit down to eat or drink. Healthy infants usually require little or no extra water, except in very hot weather. When solid food is first fed to your baby, extra water is often needed. Don\\'t limit your baby\\'s food choices to the ones you like. Offering a wide variety of foods early will pave the way for good eating habits later. Don\\'t restrict fat and cholesterol in the diets of very young children, unless advised by your child\\'s healthcare provider. Children need calories, fat, and cholesterol for the development of their brains and nervous systems, and for general growth. Feeding guide for the first year (4 to 8 months)Item4 to 6 months7 months8 months Breastfeeding or formula4 to 6 feedings per day or 28 to 32 ounces per day3 to 5 feedings per day or 30 to 32 ounces per day3 to 5 feedings per day or 30 to 32 ounces per day Dry infant cereal with iron3 to 5 tbs. single grain iron fortified cereal mixed with formula3 to 5 tbs. single grain iron fortified cereal mixed with formula5 to 8 tbs. single grain cereal mixed with formula Fruits1 to 2 tbs., plain, strained/1 to 2 times per day2 to 3 tbs., plain, strained/2 times per day2 to 3 tbs., strained or soft mashed/2 times per day Vegetables1 to 2 tbs., plain, strained/1 to 2 times per day2 to 3 tbs., plain, strained/2 times per day2 to 3 tbs., strained, mashed, soft/2 times per day Meats and protein foods1 to 2 tbs., strained/2 times per day1 to 2 tbs., strained/2 times per day Snacks Arrowroot cookies, toast, crackers Arrowroot cookies, toast, crackers, plain yogurt Development Make first cereal feedings very soupy and thicken slowly. Start finger foods and cup. Formula intake decreases; solid foods in diet increase. Feeding guide for the first year (9 to 12 months)Item9 months10 to 12 months Breastfeeding or formula3 to 5 feedings per day or 30 to 32 ounces per day3 to 4 feedings per day or 24 to 30 ounces per day Dry infant cereal with iron5 to 8tbs. any variety mixed with formula5 to 8 tbs. any variety mixed with formula per day Fruits2 to 4 tbs., strained or soft mashed/2 times per day2 to 4 tbs., mashed or strained, cooked/2 times per day Vegetables2 to 4 tbs., mashed, soft, bite-sized pieces/2 times per day2 to 4 tbs., mashed, soft, bite-sized pieces/2 times per day Meats and protein foods2 to 3 tbs. of tender, chopped/2 times per day2 to 3 tbs., finely chopped, table meats, fish without bones, mild cheese/2 times per day Starches1/4-1/2 cup mashed potatoes, macaroni, spaghetti, bread/2 times per day Snacks Arrowroot cookies, assorted finger foods, cookies, toast, crackers, plain yogurt, cooked green beans Arrowroot cookies, assorted finger foods, cookies, toast, crackers, plain yogurt, cooked green beans, cottage cheese, ice cream, pudding, dry cereal Development Eating more table foods. Make sure diet has good variety. Baby may change to table food. Baby will feed himself or herself and use a spoon and cup. Experience Our Care Find a Children\\'s Doctor for: General Pediatrics Pediatrics Find a physician at another Johns Hopkins Member Hospital: Howard County General Sibley Memorial Hospital Suburban Hospital Find Additional Treatment Centers at: Howard County General Sibley Memorial Hospital Suburban Hospital Maryland Patients Find a location near you. Traveling for Care? Whether you\\'re crossing the country or the globe, we make it easy to access world-class care at Johns Hopkins. Outside of Maryland (toll free) 410-464-6713Request an Appointment Medical Concierge Services International Patients +1-410-502-7683Request an Appointment Medical Concierge Services Discover Our Research Survey Finds That Pediatric Care Doctors Attempt To Address Parental Health Issues That Affect Children, But Are Limited By Practice-related Barriers And Physician Attitudes Pranita Tamma Receives Pediatric Scholarship Award Hispanic Children In Immigrant Families Exposed To Fewer Adverse Experiences Than Those In U.s.-native Families, New Study Finds Expand Your Knowledge Sign up for an e-Newsletter Attend a Health Seminar Related Articles An A+ School Start Three ways to help your child prep for (and beat!) the back-to-school... Mission Possible: Moving Kids In The Icu Early Diagnosis Is Key To Better Outcomes In Perthes \"\\n\\n[0] \"All Communities > August 2009 Babies > how many times are you feeding baby food a day?how many times are you feeding baby food a day? Rachel - posted on 02/05/2010 ( 10 moms have responded )23121my son is 5 months old and we started with rice cereal once a day and then moved to veggies. He only eats half a container around 2 oz. at lunch and then cereal at night. But on Gerbers website it look like he should be eating baby food like 5 times a day. Anyone doing that? And do you feed it with milk or make it a separate meal? My son doesnt even want a bottle 5 times a day lol Helpful (11) Nice Funny Encouraging (1) Hugs (1)MOST HELPFUL POSTSMichelle - posted on 02/07/20101152426Izzy Schedule 8am 6oz milk 2oz baby food 11am 4oz milk 2oz food 2pm 6oz 5pm 4oz milk 2oz food 8:30 pm 6oz milk It really works for us but we have been doing this for about two months. I am getting ready to up baby food cause we are on stage 2 so i think we will being going to 4 oz of food three times a day. I love it cause she is so happy to eat baby food. Helpful (8) Nice (1) Funny Encouraging (2) Hugs (1) [deleted account]Nooooo... We\\'ve only just started cereal and he\\'s eating it once a day, in the evening. I\\'ll start with some veggies \"\"for lunch\"\" in about a week, and plan to introduce fruit after that. So, it\\'ll be three solid meals, and the others will be breastfeeding. Helpful (4) Nice Funny Encouraging (1) Hugs Kristine - posted on 02/05/2010691312I found a suggested schedual on Beech Nuts web site. I only started it this week but its working good so far. They suggest cereal and fruit in the morning, veggies and meat at lunch then just cereal for dinner. I\\'m not giving meat yet tho. Then I just nurse between meals. Right now my daughter will only eat about 1/3 of a 2oz jar and about 1/8 cup of cereal. She will nurse about 2 times in between feedings Helpful (2) Nice Funny Encouraging (1) Hugs (2)User - posted on 11/09/2012500i start to give my both of my Daughter\\'s sold\\'s at 4 month and by the time they were 6 months old they were on breakfast with baby milk. dinner with a pudding baby juice and tea with a pudding baby juice. and a milk bottle before bed. but very baby is diffident. Helpful (1) Nice Funny (1) Encouraging Hugs Allie - posted on 02/07/20101173511No that is alot a day to eat. my doctor said that babies do not even need to start foods until 6 months old now. Well this is new to me but with all four of my kids they started cereal at 3 1/2 months and at 4 months I started veggies then after they got used to that i went to fruits then stage two with in two months. I only feed them dinner with foods. my 6 month old eats 2 jars of stage 2 foods and then 4 oz of a bottle at dinner only. Helpful (1) Nice (1) Funny Encouraging (1) Hugs (1)10 Comments View replies by User - posted on 11/03/2012100My twin boys are 5 months and they love their cereal in the morning and my awesome home made sweet potatoe for dinner around 5.45pm Helpful Nice (1) Funny Encouraging (2) Hugs KRYSTLE - posted on 02/08/201015232my son eats alot....he has about a 1/4 cup of the rice and mixed fruit with about an oz of apple juice usually around 6am then maybe a 2 or 4 oz bottle at 10 and he usually eats about another 1/4 cup of cereal around 1-1:30 witha a few sips of formula a 2oz bottle around 4 and then a bowl of plain rice mixed with some baby veggies in there for dinner he usually eats his last meal around 7:30 or 8. he will be six months old this tuesday and weighed last time we went to the dr. 16.5 lbs wich was about 3 weeks ago now... Helpful Nice Funny (2) Encouraging (1) Hugs (1)Alyssa - posted on 02/08/201028562at 4 months, i started rice cereal (a tbsp) once a day at night, then i introduced baby food (a tbsp) 2 wks later with the cereal. at about 5.5 months i started feeding her rice cereal 2 times a day with baby food. sometimes i give her solids 3 times a day, but only in small amounts (about 1/4 cup of rice cereal and 2 oz of baby food for the whole day). she still drinks 3-4 8oz bottles daily. Helpful Nice Funny Encouraging Hugs Tanya - posted on 02/06/201060162My son is 5 1/2 months and we feed him cereal and fruit in the morning and cereal and veggies at night, he never finishes his food in the morning though always at dinner time Helpful Nice Funny Encouraging Hugs Kailey - posted on 02/05/201018125we started my son with rice cereal and now veggies about a month ago...here is his schedule...6/7 - 6+ oz bottle, 10 - 1-2 oz food, 4 oz bottle, 2 - 6 oz bottle, 5 - food/bottle again, then 8 - 6+ bottle at bed. we will start adding in a lunch meal in the next week or too. I have only ever seen anything that says 5 times, that seems a lot for baby food? i just go by the chart that his ped gave us Helpful (1) Nice Funny Encouraging Hugs Join Circle of Moms Sign up for Circle of Moms and be a part of this community! Membership is just one click away. Join Circle of Moms \"\\n\\n[3] \"Feeding Guide for the First Year Making appropriate food choices for your baby during the first year of life is very important. More growth occurs during the first year than at any other time in your child\\'s life. It\\'s important to feed your baby a variety of healthy foods at the proper time. Starting good eating habits at this early stage will help set healthy eating patterns for life. Recommended feeding guide for the first year Don\\'t give solid foods unless your child\\'s doctor advises you to do so. Solid foods should not be started before age 4 months because: Breast milk or formula provides your baby all the nutrients that are needed for growth. Your baby isn\\'t physically developed enough to eat solid food from a spoon. Feeding your baby solid food too early may lead to overfeeding and being overweight. The American Academy of Pediatrics (AAP) recommends that all infants, children, and adolescents take in enough vitamin D through supplements, formula, or cow\\'s milk to prevent complications from deficiency of this vitamin. In November 2008, the AAP updated its recommendations for daily intake of vitamin D for healthy infants, children, and adolescents. It is now recommended that the minimum intake of vitamin D for these groups should be 400 IU per day, beginning soon after birth. Your baby\\'s doctor can recommend the proper type and amount of vitamin D supplement for your baby. Guide for formula feeding (0 to 5 months)Age Amount of formula per reeding Number of feedings per 24 hours1 month2 to 4 ounces6 to 8 times2 months5 to 6 ounces5 to 6 times3 to 5 months6 to 7 ounces5 to 6 times Feeding tips for your child These are some things to consider when feeding your baby: When starting solid foods, give your baby one new food at a time—not mixtures (such as cereal and fruit or meat dinners). Give the new food for three to five days before adding another new food. This way you can tell what foods your baby may be allergic to or can\\'t tolerate. Begin with small amounts of new solid foods—a teaspoon at first and slowly increase to a tablespoon. Begin with dry infant rice cereal first, mixed as directed, followed by vegetables, fruits, and then meats. Don\\'t use salt or sugar when making homemade infant foods. Canned foods may contain large amounts of salt and sugar and shouldn\\'t be used for baby food. Always wash and peel fruits and vegetables and remove seeds or pits. Take special care with fruits and vegetables that come into contact with the ground. They may contain botulism spores that cause food poisoning. Infant cereals with iron should be given to your infant until your infant is age 18 months. Cow\\'s milk shouldn\\'t be added to the diet until your infant is age 1. Cow\\'s milk doesn\\'t provide the proper nutrients for your baby. The AAP recommends not giving fruit juices to infants younger than age 6 months. Only pasteurized, 100 percent fruit juices (without added sugar) may be given to older infants and children, and should be limited to 4 to 6 ounces a day. Dilute the juice with water and offer it in a cup with a meal. Feed all food with a spoon. Your baby needs to learn to eat from a spoon. Don\\'t use an infant feeder. Only formula and water should go into the bottle. Avoid honey in any form for your child\\'s first year, as it can cause infant botulism. Don\\'t put your baby in bed with a bottle propped in his or her mouth. Propping a bottle has been linked to an increased risk of ear infections. Once your baby\\'s teeth are present, propping the bottle can also cause tooth decay. There is also a risk of choking. Help your baby to give up the bottle by his or her first birthday. Avoid the \"\"clean plate syndrome.\"\" Forcing your child to eat all the food on his or her plate even when he or she isn\\'t hungry isn\\'t a good habit. It teaches your child to eat just because the food is there, not because he or she is hungry. Expect a smaller and pickier appetite as the baby\\'s growth rate slows around age 1. Infants and young children shouldn\\'t eat hot dogs, nuts, seeds, round candies, popcorn, hard, raw fruits and vegetables, grapes, or peanut butter. These foods aren\\'t safe and may cause your child to choke. Many doctors suggest these foods be saved until after your child is age 3 or 4. Always watch a young child while he or she is eating. Insist that the child sit down to eat or drink. Healthy infants usually require little or no extra water, except in very hot weather. When solid food is first fed to your baby, extra water is often needed. Don\\'t limit your baby\\'s food choices to the ones you like. Offering a wide variety of foods early will pave the way for good eating habits later. Fat and cholesterol shouldn\\'t be restricted in the diets of very young children, unless advised by your child\\'s doctor. Children need calories, fat, and cholesterol for the development of their brains and nervous systems, and for general growth. Feeding guide for the first year (4 to 8 months)Item4 to 6 months7 months8 months Breastfeeding or formula4 to 6 feedings per day or 28 to 32 ounces per day3 to 5 feedings per day or 30 to 32 ounces per day3 to 5 feedings per day or 30 to 32 ounces per day Dry infant cereal with iron3 to 5 tbs. single grain iron fortified cereal mixed with formula3 to 5 tbs. single grain iron fortified cereal mixed with formula5 to 8 tbs. single grain cereal mixed with formula Fruits1 to 2 tbs., plain, strained/1 to 2 times per day2 to 3 tbs., plain, strained/2 times per day2 to 3 tbs., strained or soft mashed/2 times per day Vegetables1 to 2 tbs., plain, strained/1 to 2 times per day2 to 3 tbs., plain, strained/2 times per day2 to 3 tbs., strained, mashed, soft/2 times per day Meats and protein foods1 to 2 tbs., strained/2 times per day1 to 2 tbs., strained/2 times per day Juices, vitamin C fortified4 to 6 oz. from a cup4 to 6 oz. from a cup Snacks Arrowroot cookies, toast, crackers Arrowroot cookies, toast, crackers, plain yogurt Development Make first cereal feedings very soupy and thicken slowly. Start finger foods and cup. Formula intake decreases; solid foods in diet increase. Feeding guide for the first year (9 to 12 months)Item9 months10 to 12 months Breastfeeding or formula3 to 5 feedings per day or 30 to 32 ounces per day3 to 4 feedings per day or 24 to 30 ounces per day Dry infant cereal with iron5 to 8tbs. any variety mixed with formula5 to 8 tbs. any variety mixed with formula per day Fruits2 to 4 tbs., strained or soft mashed/2 times per day2 to 4 tbs., mashed or strained, cooked/2 times per day Vegetables2 to 4 tbs., mashed, soft, bite-sized pieces/2 times per day2 to 4 tbs., mashed, soft, bite-sized pieces/2 times per day Meats and protein foods2 to 3 tbs. of tender, chopped/2 times per day2 to 3 tbs., finely chopped, table meats, fish without bones, mild cheese/2 times per day Juices, vitamin C fortified4 to 6 oz. from a cup4 to 6 oz. from a cup Starches1/4-1/2 cup mashed potatoes, macaroni, spaghetti, bread/2 times per day Snacks Arrowroot cookies, assorted finger foods, cookies, toast, crackers, plain yogurt, cooked green beans Arrowroot cookies, assorted finger foods, cookies, toast, crackers, plain yogurt, cooked green beans, cottage cheese, ice cream, pudding, dry cereal Development Eating more table foods. Make sure diet has good variety. Baby may change to table food. Baby will feed himself or herself and use a spoon and cup. \"\\n\\n[2] \"Pregnancy & Parenting Newborn & Baby Feeding infant Rice Cereal: How many times a day and how much? Our Pedi. started our 4m 1 week old infant on Rice Cereal... how many times a day should we feed her the cereal and how much. Do we still breast feed right before or after the cereal? Follow 11 answers Answers Relevance Rating Newest Oldest Best Answer: This is what we did (according to our pediatrician)for my son: Starting Solids Indications you can start solids= baby has doubled in birth weight, he/she can sit up with assistance, starts eyeing your food at 5 months. 1- Make a bottle of formula (6 ounces). Take one ounce from bottle and add to one tablespoon of single grain rice cereal in a bowl. Use a soft ended spoon to mix and feed (let baby taste it at first). Make sure he is sitting up with you or in a chair. 2- Feed this cereal mix 1x per day at evening not close to bed. Do this for five days. Watch for any allergic reactions. 3- If all goes well, increase this to 2 tablespoons of single grain rice cereal + 1 1/2 ounces of formula. Do this also for five days. Watch for any reactions. 4- After that, feed 2 tablespoons of single grain oatmeal + 1 1/2 ounces of formula once a day. ALSO, continue feeding rice cereal + formula once a day... so he will be eating solids two times a day. I usually did one time mid morning and the second at night to space it out. 5- Feed with the oatmeal (+ rice cereal for 2nd feeding) for 5 days. Watch for any reactions. 6- If all goes well, begin single grain barley (2 tablespoons + 1 1/2 formula) for five days. The second feeding can be either rice cereal or oatmeal or you can rotate. Watch for any reactions. If there is a reaction, it has to be the barley because that is the new food that is introduced. 7- The idea is to introduce each new food for five days to see if there are any allergic reactions. Most jar/can baby foods have rice/barley/oatmeal in them so you need to know beforehand if these will be a problem. 8 Then the fun part begins. Begin with Stage 1 jar foods ORANGE vegetables (Most have the Stages on them- I use Gerber and it says it right on the package). My suggestion is to start with Squash since it\\'s very light in taste. According to my doctor feed the vegetable- as much has he wants and give him 6 ounces of formula separately in the bottle- he\\'ll stop when he\\'s full (although my baby has eaten it all and then spit up so I don\\'t know if I agree with that theory). 9- same concept as with the cereal Squash with a spoon + formula with a bottle after (6 ounces). 2nd feeding of barley/cereal/oatmeal prepared the way mentioned above. Feed for five days. Watch for any allergic reactions. Sweet Potatoes (same as above) Carrots (same as above) 10- Then do the same with green vegetables (peas, greenbeans) ... and I\\'ve heard the poop is the same color as the food. We;ll find out next week. 11- Then do the same with fruits. Fruits should go last. Once you have some foods that \"\"pass the test\"\" you can feed a variety of colors or fruits and veggies in one day. Also, once you have finished stage 1 foods- you can move on to stage two...which are more fun (meats, \"\"desserts,\"\" mixed fruits/vegetables). Feeding schedule at 7-8 months: 6am 6 ounces formula 10am 2 tablespoons cereal/oatmeal/barley + 1/2 ounces formula PLUS half can of fruit then give him 5-6 ounces of formula. Add liquid vitamin/fluoride in bottle 2pm 6 ounces formula 6pm half can of meat/veggie mix or meat can plus veggie can (half each) + 5-6 ounces of formula 10pm 6 ounces formula *** if it’s hot out, I give him up to 2 ounces of cold water in between a feeding. You can only do this once a day. at 12 months you can give up to 12 oz. water in between feedings. Helena · 10 years ago1 3 Comment Asker\\'s rating My baby is almost 4 months old. My pedi said I could start my baby on rice cereal too but I haven\\'t started her yet. You don\\'t want to feed her too much rice cereal because than your milk supply will go down if you\\'re breast feeding (I am breastfeeding). Cause she\\'ll be full from the rice cereal that she won\\'t want to nurse as much. You don\\'t want to put her on solids until 6 months cause thats when babys digestive system is mature enough to handle solids. Rice cereal is more of an introduction food cause there aren\\'t many allergic reactions with it. And you should nurse your baby before you give her rice cereal so that way you can keep your milk supply up cause once she eats the rice cereal she won\\'t want to nurse, and you\\'ll most likely miss a feeding. I\\'m not sure exactly how much you give her, but its NOT a lot. I know that! You can look up online how much you should give to her. It\\'s a very small amount cause their bellys are still so small. Good luck!Source (s): A MOMMY!Sum L · 10 years ago1 0 Comment Baby Rice Cereal Source (s):https://shrink.im/a91v0leadford · 2 years ago0 0 Comment Just went through this! And also had his 4 month old well-being check up on friday, when the doctor answered that very same question for us. We began our son on rice cereal around the \"\"dinner time\"\" feeding for the past two weeks. I was wondering if I needed to feed him this more often, but the doctor said that this was just to help him to get used to moving the food around with his tongue and getting used to swallowing more than just formula. He did that with no problem. She told us to begin with stage 1 baby foods. We did this over the weekend and he likes it. First, we\\'ll introduce the vegetables (at the same \"\"dinner\"\" time) and then some fruits (still, same time). Then, over the next couple of months, we will introduce a morning feeding and by 9 months he\\'ll be eating breakfast lunch and dinner with baby foods. We still give him some of his bottle after the baby food, but it\\'s usually not the entire bottle. This schedule is very easy and he is very happy :-) Have fun!! !Shelby · 10 years ago0 2 Comment I implore you to do some research on this. Starting solids at 4mo is a very outdated recommendation. Rice cereal was a nice thing to have back when a lot of babies were bottle-fed cow\\'s milk and sugar water homemade formula; now it\\'s useless -- just cheap, heavily refined starch with _unnecessary_ vitamins. A breastfed baby has no use for it. Of interest: http://answers.yahoo.com/question/index?...http://kellymom.com/nutrition/solids/del... Shut up Obber!!!! · 10 years ago3 1 Comment I agree with Obber, cereal has no nutrients in it what so ever, 4 months is too early, WHO (world health organisation) recommends EXCLUSIVELY breastfeed for at least 6 months, then solids can come. dont listen to the outdated advise of 4 months, if you really do start with the rice cereal then breastfeed before you give any solids, the breastmilk is their main source of nutrition and should always come first, its only a tiny bit they start of on, I reccomend that you do some research, trust me everything he needs is right there in his breastmilk♥Fleur & the gorgi Addyson♥ · 10 years ago0 1 Comment2-3 times a day plus regular bottles feed her as much as she will have it was suggested to me to give my baby half of her milk then give her a bit of cereal then give her the rest of her milk then give her more cereal if she is interested Lynette S · 10 years ago0 3 Commentan infante should only be fed that 3 times a week. people who feed there child baby rice every day that child experiences ealry obesity . or they can easliy have diabetes especially from baby rice Source (s):my aunt is a pedotrition Anna · 10 years ago2 4 Commentonce a day and start off with one table spoon of flakes add formula till applesauce consistencymommy of 3 baby boys · 10 years ago0 4 Commentwell with my daughter i fed her ceral in the morning and once in the eaving and 1 or 2 scoops. ( the scoops you would find in baby formula can )Proud Mommy 4/22/O8 & 2/O9/1O · 10 years ago0 3 Comment1 2 next Perhaps you would like to learn more about one of these? Consolidate Your Student Loans Look For an Accident Attorney Want to buy a domain name? Earn your MBA online! \"\\n\\n[4] \"Home > Health Library Feeding Guide for the First Year<< Back to Pediatrics Making appropriate food choices for your baby during the first year of life is very important. More growth occurs during the first year than at any other time in your child\\'s life. It\\'s important to feed your baby a variety of healthy foods at the proper time. Starting good eating habits at this early stage will help set healthy eating patterns for life. Recommended feeding guide for the first year Don\\'t give solid foods unless your child\\'s healthcare provider advises you to do so. Solid foods should not be started before age 4 months because: Breast milk or formula provides your baby all the nutrients that are needed for growth. Your baby isn\\'t physically developed enough to eat solid food from a spoon. Feeding your baby solid food too early may lead to overfeeding and being overweight. The American Academy of Pediatrics (AAP) recommends that all infants, children, and adolescents take in enough vitamin D through supplements, formula, or cow\\'s milk to prevent complications from deficiency of this vitamin. In November 2008, the AAP updated its recommendations for daily intake of vitamin D for healthy infants, children, and adolescents. It is now recommended that the minimum intake of vitamin D for these groups should be 400 IU per day, beginning soon after birth. Your baby\\'s healthcare provider can recommend the proper type and amount of vitamin D supplement for your baby. Guide for formula feeding (0 to 5 months)Age Amount of formula per feeding Number of feedings per 24 hours1 month2 to 4 ounces6 to 8 times2 months5 to 6 ounces5 to 6 times3 to 5 months6 to 7 ounces5 to 6 times Feeding tips for your child These are some things to consider when feeding your baby: When starting solid foods, give your baby one new food at a time — not mixtures (like cereal and fruit or meat dinners). Give the new food for 3 to 5 days before adding another new food. This way you can tell what foods your baby may be allergic to or can\\'t tolerate. Start with small amounts of new solid foods — a teaspoon at first and slowly increase to a tablespoon. Start with dry infant rice cereal first, mixed as directed, followed by vegetables, fruits, and then meats. Don\\'t use salt or sugar when making homemade infant foods. Canned foods may contain large amounts of salt and sugar and shouldn\\'t be used for baby food. Always wash and peel fruits and vegetables and remove seeds or pits. Take special care with fruits and vegetables that come into contact with the ground. They may contain botulism spores that cause food poisoning. Infant cereals with iron should be given to your infant until your infant is age 18 months. Cow\\'s milk shouldn\\'t be added to the diet until your infant is age 1. Cow\\'s milk doesn\\'t provide the proper nutrients for your baby. The AAP recommends not giving fruit juices to infants younger than 1 year old. Only pasteurized, 100% fruit juices (without added sugar) may be given to older infants and children, but should be limited to 4 ounces a day. Dilute the juice with water and offer it in a cup with a meal. Feed all food with a spoon. Your baby needs to learn to eat from a spoon. Don\\'t use an infant feeder. Only formula and water should go into the bottle. Avoid honey in any form for your child\\'s first year, as it can cause infant botulism. Don\\'t put your baby in bed with a bottle propped in his or her mouth. Propping a bottle has been linked to an increased risk of ear infections. Once your baby\\'s teeth are present, propping the bottle can also cause tooth decay. There is also a risk of choking. Help your baby to give up the bottle by his or her first birthday. Don\\'t make your child \"\"clean the plate.\"\" Forcing your child to eat all the food on his or her plate even when he or she isn\\'t hungry isn\\'t a good habit. It teaches your child to eat just because the food is there, not because he or she is hungry. Expect a smaller and pickier appetite as the baby\\'s growth rate slows around age 1. Infants and young children shouldn\\'t eat hot dogs, nuts, seeds, round candies, popcorn, hard, raw fruits and vegetables, grapes, or peanut butter. These foods aren\\'t safe and may cause your child to choke. Many healthcare providers suggest these foods be saved until after your child is age 3 or 4. Always watch a young child while he or she is eating. Insist that the child sit down to eat or drink. Healthy infants usually require little or no extra water, except in very hot weather. When solid food is first fed to your baby, extra water is often needed. Don\\'t limit your baby\\'s food choices to the ones you like. Offering a wide variety of foods early will pave the way for good eating habits later. Don\\'t restrict fat and cholesterol in the diets of very young children, unless advised by your child\\'s healthcare provider. Children need calories, fat, and cholesterol for the development of their brains and nervous systems, and for general growth. Feeding guide for the first year (4 to 8 months)Item4 to 6 months7 months8 months Breastfeeding or formula4 to 6 feedings per day or 28 to 32 ounces per day3 to 5 feedings per day or 30 to 32 ounces per day3 to 5 feedings per day or 30 to 32 ounces per day Dry infant cereal with iron3 to 5 tbs. single grain iron fortified cereal mixed with formula3 to 5 tbs. single grain iron fortified cereal mixed with formula5 to 8 tbs. single grain cereal mixed with formula Fruits1 to 2 tbs., plain, strained/1 to 2 times per day2 to 3 tbs., plain, strained/2 times per day2 to 3 tbs., strained or soft mashed/2 times per day Vegetables1 to 2 tbs., plain, strained/1 to 2 times per day2 to 3 tbs., plain, strained/2 times per day2 to 3 tbs., strained, mashed, soft/2 times per day Meats and protein foods1 to 2 tbs., strained/2 times per day1 to 2 tbs., strained/2 times per day Snacks Arrowroot cookies, toast, crackers Arrowroot cookies, toast, crackers, plain yogurt Development Make first cereal feedings very soupy and thicken slowly. Start finger foods and cup. Formula intake decreases; solid foods in diet increase. Feeding guide for the first year (9 to 12 months)Item9 months10 to 12 months Breastfeeding or formula3 to 5 feedings per day or 30 to 32 ounces per day3 to 4 feedings per day or 24 to 30 ounces per day Dry infant cereal with iron5 to 8tbs. any variety mixed with formula5 to 8 tbs. any variety mixed with formula per day Fruits2 to 4 tbs., strained or soft mashed/2 times per day2 to 4 tbs., mashed or strained, cooked/2 times per day Vegetables2 to 4 tbs., mashed, soft, bite-sized pieces/2 times per day2 to 4 tbs., mashed, soft, bite-sized pieces/2 times per day Meats and protein foods2 to 3 tbs. of tender, chopped/2 times per day2 to 3 tbs., finely chopped, table meats, fish without bones, mild cheese/2 times per day Starches1/4-1/2 cup mashed potatoes, macaroni, spaghetti, bread/2 times per day Snacks Arrowroot cookies, assorted finger foods, cookies, toast, crackers, plain yogurt, cooked green beans Arrowroot cookies, assorted finger foods, cookies, toast, crackers, plain yogurt, cooked green beans, cottage cheese, ice cream, pudding, dry cereal Development Eating more table foods. Make sure diet has good variety. Baby may change to table food. Baby will feed himself or herself and use a spoon and cup. Experience Our Care Find a Children\\'s Doctor for: General Pediatrics Pediatrics Find a physician at another Johns Hopkins Member Hospital: Howard County General Sibley Memorial Hospital Suburban Hospital Find Additional Treatment Centers at: Howard County General Sibley Memorial Hospital Suburban Hospital Maryland Patients Find a location near you. Traveling for Care? Whether you\\'re crossing the country or the globe, we make it easy to access world-class care at Johns Hopkins. Outside of Maryland (toll free) 410-464-6713Request an Appointment Medical Concierge Services International Patients +1-410-502-7683Request an Appointment Medical Concierge Services Discover Our Research Survey Finds That Pediatric Care Doctors Attempt To Address Parental Health Issues That Affect Children, But Are Limited By Practice-related Barriers And Physician Attitudes Pranita Tamma Receives Pediatric Scholarship Award Hispanic Children In Immigrant Families Exposed To Fewer Adverse Experiences Than Those In U.s.-native Families, New Study Finds Expand Your Knowledge Sign up for an e-Newsletter Attend a Health Seminar Related Articles An A+ School Start Three ways to help your child prep for (and beat!) the back-to-school... Mission Possible: Moving Kids In The Icu Early Diagnosis Is Key To Better Outcomes In Perthes \"\\n\\n\\nSearch Query: feeding rice cereal how many times per day\\nRank the 5 passages above based on their relevance to the search query. All the passages should be included and listed using identifiers, in descending order of relevance. The output format should be [] > [], e.g., [2] > [1], Only respond with the ranking results, do not say any word or explain.'}, {'from': 'gpt', 'value': '[2] > [3] > [0] > [4] > [1]'}]}\n"
     ]
    }
   ],
   "source": [
    "import os\n",
    "import json\n",
    "\n",
    "# Define the file path\n",
    "output_file = os.path.join(path, \"ranked_first.jsonl\")\n",
    "\n",
    "# Read only the top 5 lines from the JSONL file\n",
    "top_5 = []\n",
    "with open(output_file, \"r\", encoding=\"utf-8\") as f:\n",
    "    for i, line in enumerate(f):\n",
    "     \n",
    "        if i >= 5:  # Stop after 5 lines\n",
    "            break\n",
    "        top_5.append(json.loads(line))\n",
    "\n",
    "# Now `top_5` contains only the first 5 dictionaries from the file\n"
   ]
  },
  {
   "cell_type": "code",
   "execution_count": null,
   "id": "90004818-a270-4d30-a989-925e510bf25f",
   "metadata": {},
   "outputs": [],
   "source": []
  },
  {
   "cell_type": "code",
   "execution_count": null,
   "id": "a99adb3f-459a-4496-8b9d-39d9af5d0458",
   "metadata": {},
   "outputs": [],
   "source": []
  }
 ],
 "metadata": {
  "kernelspec": {
   "display_name": "Python 3 (ipykernel)",
   "language": "python",
   "name": "python3"
  },
  "language_info": {
   "codemirror_mode": {
    "name": "ipython",
    "version": 3
   },
   "file_extension": ".py",
   "mimetype": "text/x-python",
   "name": "python",
   "nbconvert_exporter": "python",
   "pygments_lexer": "ipython3",
   "version": "3.12.7"
  }
 },
 "nbformat": 4,
 "nbformat_minor": 5
}
