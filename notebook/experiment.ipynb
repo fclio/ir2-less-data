{
 "cells": [
  {
   "cell_type": "code",
   "execution_count": 1,
   "metadata": {},
   "outputs": [
    {
     "name": "stdout",
     "output_type": "stream",
     "text": [
      "DatasetDict({\n",
      "    validation: Dataset({\n",
      "        features: ['answers', 'passages', 'query', 'query_id', 'query_type', 'wellFormedAnswers'],\n",
      "        num_rows: 101093\n",
      "    })\n",
      "    train: Dataset({\n",
      "        features: ['answers', 'passages', 'query', 'query_id', 'query_type', 'wellFormedAnswers'],\n",
      "        num_rows: 808731\n",
      "    })\n",
      "    test: Dataset({\n",
      "        features: ['answers', 'passages', 'query', 'query_id', 'query_type', 'wellFormedAnswers'],\n",
      "        num_rows: 101092\n",
      "    })\n",
      "})\n"
     ]
    }
   ],
   "source": [
    "from datasets import load_dataset\n",
    "\n",
    "# Load MS MARCO dataset (v2.1)\n",
    "dataset = load_dataset(\"microsoft/ms_marco\", \"v2.1\")\n",
    "\n",
    "# Check available splits\n",
    "print(dataset)"
   ]
  },
  {
   "cell_type": "code",
   "execution_count": 2,
   "metadata": {},
   "outputs": [
    {
     "name": "stdout",
     "output_type": "stream",
     "text": [
      "DatasetDict({\n",
      "    train: Dataset({\n",
      "        features: ['doc_id', 'title', 'abstract', 'structured'],\n",
      "        num_rows: 5183\n",
      "    })\n",
      "})\n",
      "DatasetDict({\n",
      "    train: Dataset({\n",
      "        features: ['id', 'claim', 'evidence_doc_id', 'evidence_label', 'evidence_sentences', 'cited_doc_ids'],\n",
      "        num_rows: 1261\n",
      "    })\n",
      "    test: Dataset({\n",
      "        features: ['id', 'claim', 'evidence_doc_id', 'evidence_label', 'evidence_sentences', 'cited_doc_ids'],\n",
      "        num_rows: 300\n",
      "    })\n",
      "    validation: Dataset({\n",
      "        features: ['id', 'claim', 'evidence_doc_id', 'evidence_label', 'evidence_sentences', 'cited_doc_ids'],\n",
      "        num_rows: 450\n",
      "    })\n",
      "})\n",
      "{'doc_id': 4983, 'title': 'Microstructural development of human newborn cerebral white matter assessed in vivo by diffusion tensor magnetic resonance imaging.', 'abstract': ['Alterations of the architecture of cerebral white matter in the developing human brain can affect cortical development and result in functional disabilities.', 'A line scan diffusion-weighted magnetic resonance imaging (MRI) sequence with diffusion tensor analysis was applied to measure the apparent diffusion coefficient, to calculate relative anisotropy, and to delineate three-dimensional fiber architecture in cerebral white matter in preterm (n = 17) and full-term infants (n = 7).', 'To assess effects of prematurity on cerebral white matter development, early gestation preterm infants (n = 10) were studied a second time at term.', 'In the central white matter the mean apparent diffusion coefficient at 28 wk was high, 1.8 microm2/ms, and decreased toward term to 1.2 microm2/ms.', 'In the posterior limb of the internal capsule, the mean apparent diffusion coefficients at both times were similar (1.2 versus 1.1 microm2/ms).', 'Relative anisotropy was higher the closer birth was to term with greater absolute values in the internal capsule than in the central white matter.', 'Preterm infants at term showed higher mean diffusion coefficients in the central white matter (1.4 +/-', '0.24 versus 1.15 +/-', '0.09 microm2/ms, p = 0.016) and lower relative anisotropy in both areas compared with full-term infants (white matter, 10.9 +/- 0.6 versus 22.9 +/-', '3.0%, p = 0.001; internal capsule, 24.0 +/-', '4.44 versus 33.1 +/-', '0.6% p = 0.006).', 'Nonmyelinated fibers in the corpus callosum were visible by diffusion tensor MRI as early as 28 wk; full-term and preterm infants at term showed marked differences in white matter fiber organization.', 'The data indicate that quantitative assessment of water diffusion by diffusion tensor MRI provides insight into microstructural development in cerebral white matter in living infants.'], 'structured': False}\n",
      "{'id': 1, 'claim': '0-dimensional biomaterials show inductive properties.', 'evidence_doc_id': '', 'evidence_label': '', 'evidence_sentences': [], 'cited_doc_ids': [31715818]}\n"
     ]
    }
   ],
   "source": [
    "corpus = load_dataset(\"allenai/scifact\",'corpus')\n",
    "claims = load_dataset(\"allenai/scifact\",'claims')\n",
    "\n",
    "print(corpus)\n",
    "print(claims)\n",
    "\n",
    "print(corpus[\"train\"][0])\n",
    "print(claims[\"validation\"][0])"
   ]
  },
  {
   "cell_type": "code",
   "execution_count": 5,
   "metadata": {},
   "outputs": [],
   "source": [
    "from datasets import load_dataset\n",
    "\n",
    "# Load MS MARCO dataset\n",
    "dataset = load_dataset(\"ms_marco\", \"v2.1\")  # Change \"v2.1\" to the version you are using\n",
    "\n"
   ]
  },
  {
   "cell_type": "code",
   "execution_count": 6,
   "metadata": {},
   "outputs": [
    {
     "data": {
      "text/plain": [
       "DatasetDict({\n",
       "    validation: Dataset({\n",
       "        features: ['answers', 'passages', 'query', 'query_id', 'query_type', 'wellFormedAnswers'],\n",
       "        num_rows: 101093\n",
       "    })\n",
       "    train: Dataset({\n",
       "        features: ['answers', 'passages', 'query', 'query_id', 'query_type', 'wellFormedAnswers'],\n",
       "        num_rows: 808731\n",
       "    })\n",
       "    test: Dataset({\n",
       "        features: ['answers', 'passages', 'query', 'query_id', 'query_type', 'wellFormedAnswers'],\n",
       "        num_rows: 101092\n",
       "    })\n",
       "})"
      ]
     },
     "execution_count": 6,
     "metadata": {},
     "output_type": "execute_result"
    }
   ],
   "source": [
    "dataset"
   ]
  },
  {
   "cell_type": "code",
   "execution_count": null,
   "metadata": {},
   "outputs": [],
   "source": [
    "# Use the 'train' split for training and 'dev' for evaluation\n",
    "train_data = dataset['train']\n",
    "\n",
    "# Example: Extract queries, passages, and relevance labels\n",
    "queries = train_data['query']\n",
    "passages = train_data['passages']  # Passages include a list of passage texts\n",
    "relevance_labels = train_data['answers']  # You can use this or a binary relevance field\n",
    "\n",
    "# Filter to keep passages with relevance labels\n",
    "# For binary relevance, you can map relevance labels to 0/1"
   ]
  },
  {
   "cell_type": "code",
   "execution_count": null,
   "metadata": {},
   "outputs": [],
   "source": [
    "rank_data = []\n",
    "\n",
    "for query, passage_list, relevance in zip(queries, passages, relevance_labels):\n",
    "    for passage in passage_list:\n",
    "        # Create a triplet of query, passage, and relevance score\n",
    "        rank_data.append({\n",
    "            \"query\": query,\n",
    "            \"passage\": passage['passage_text'],  # Passage text\n",
    "            \"relevance\": 1 if passage['is_selected'] else 0  # Binary relevance\n",
    "        })\n"
   ]
  },
  {
   "cell_type": "code",
   "execution_count": 3,
   "metadata": {},
   "outputs": [
    {
     "data": {
      "text/plain": [
       "Dataset({\n",
       "    features: ['id', 'conversations'],\n",
       "    num_rows: 39912\n",
       "})"
      ]
     },
     "execution_count": 3,
     "metadata": {},
     "output_type": "execute_result"
    }
   ],
   "source": [
    "dataset = load_dataset(\"rryisthebest/rank_zephyr_training_data_alpha\")  # Change \"v2.1\" to the version you are using\n",
    "\n",
    "dataset[\"train\"]"
   ]
  },
  {
   "cell_type": "code",
   "execution_count": 4,
   "metadata": {},
   "outputs": [
    {
     "name": "stdout",
     "output_type": "stream",
     "text": [
      "{'id': 'identity_1183415_da0open_ai_ada2random_ct0', 'conversations': [{'from': 'system', 'value': 'You are RankLLM, an intelligent assistant that can rank passages based on their relevancy to the query.'}, {'from': 'human', 'value': \"I will provide you with 20 passages, each indicated by a alphabetic identifier []. Rank the passages based on their relevance to the search query: fibroblasts synthesize what of the ground substance.\\n\\n[A] The ground substance secreted by a fibroblast has a lot to do with the type of connective tissue it produces, too. Bone, cartilage, fat, and blood are all special forms of connective tissue. What makes them radically different is the composition of their ground substance.\\n[B] The ground substance secreted by a fibroblast has a lot to do with the type of connective tissue it produces, too. Bone, cartilage, fat (adipose tissue), and blood are all specialized forms of connective tissue. What makes them radically different is the composition of their ground substance.n this lesson, you will learn what fibroblasts are, what substances they produce, and why they are so important to every organ system in your body. At the end of the lesson, a short quiz will test your knowledge.\\n[C] The main function of fibroblasts is to maintain the structural integrity of connective tissues by continuously secreting precursors of the extracellular matrix. Fibroblasts secrete the precursors of all the components of the extracellular matrix, primarily the ground substance and a variety of fibers. The composition of the extracellular matrix determines the physical properties of connective tissues. Like other cells of connective tissue, fibroblasts are derived from primitive mesenchyme.\\n[D] in connective tissue the ground substance is an amorphous gel like substance surrounding the cells in a tissue cells are surrounded and supported by an extracellular matrix ground substance traditionally does not include fibers collagen and elastic fibers but does include all the other components of the extracellular matrix the components of the ground substance vary depending on the tissue\\n[E] In addition to fibers, the intercellular matrix of connective tissue contains an amorphous ground substance. It is within this ground substance that the various fibers and cells are embedded. The ground substance consists of a poorly-staining macromolecular meshwork combined with a large volume of tissue fluid.\\n[F] The fibroblasts are the most common cell responsible for the production of soft tissues' fibers and ground substance. Variations of fibroblasts, like chondroblasts, may also produce these substances.\\n[G] Generally, the ground substance consists of. polysaccharides and proteins, which are secreted by the connective tissue cells. The ground substance can range from liquid (blood and lymph) to semi-solid (cartilage) to solid (bone). The three types of protein fibers found in connective tissue are. collagen fibers, elastic fibers, and reticular fibers.\\n[H] Fibroblasts are by far the most common native cell type of connective tissue. The fibroblast synthesizes the collagen and ground substance of the extracellular matrix. These cells make a large amount of protein that they secrete to build the connective tissue layer.\\n[I] Normally the soft tissue is very hydrated because of the ground substance. The fibroblasts are the most common cell responsible for the production of soft tissues' fibers and ground substance. Variations of fibroblasts, like chondroblasts, may also produce these substances.\\n[J] MATRIX: Connective tissue matrix is composed of: ground substance and fibers. Ground substance. In ordinary connective tissue, the ground substance consists of water stabilized by glycosaminoglycans, proteoglycans, and glycoproteins. In bone the ground substance includes minerals. In blood, the ground substance is fluid (plasma). Fibers\\n[K] Ground substance and fibers. extracellular matrix, which surrounds connective tissue cells, consists of a variety of different protein fibers and a ground substance. The type of fibers and components of the ground substance varies depending on the tissue type. Generally, the ground substance consists of.\\n[L] A skeletal fiber is. 10 nm to 15 nm in diameter and its main content is fibrillin. The. homogeneous substances are highly elastic structural proteins. called elastins. Ground substance, a gelatinous amorphous substance of sugar. and proteins, is observed in between fibers and between cells in. the dermis. The components of ground substance are principally proteo-. glycans and glycoproteins whose molecular weight is 150,000 to. 250,000 and whose sugar content is 2% to 15%.\\n[M] The material between the cells of connective tissue consists of fibers and an amorphous gel-like component called the ground substance. The potential importance of the ground substance is readily apparent; for it is through this material that nutrients supplied by the blood diffuse. A large part of connective tissue proper is composed of extracellular material produced primarily by the fibroblasts. 2 The extracellular material consists of a gel-like substance called the ground substance, and fibers.\\n[N] Fibroblasts are by far the most common native cell type of connective tissue. The fibroblast synthesizes the collagen and ground substance of the extracellular matrix. These cells make a large amount of protein that they secrete to build the connective tissue layer. Some fibroblasts have a contractile function; these are called myofibroblasts. Chondrocytes and osteocytes form the extracellular matrix of cartilage and bone.\\n[O] Fibroblast. Fibroblasts are by far the most common native cell type of connective tissue. The fibroblast synthesizes the collagen and ground substance of the extracellular matrix. These cells make a large amount of protein that they secrete to build the connective tissue layer.Some fibroblasts have a contractile function; these are called myofibroblasts.ibroblast. Fibroblasts are by far the most common native cell type of connective tissue. The fibroblast synthesizes the collagen and ground substance of the extracellular matrix. These cells make a large amount of protein that they secrete to build the connective tissue layer.\\n[P] A fibroblast is a cell that manufactures and maintains connective tissue, the structural framework that supports the organs of all animals. Fibroblasts secrete fibrous proteins and ground substance, which together form the extracellular matrix that is the basis of connective tissue.\\n[Q] Fibroblasts are by far the most common native cell type of connective tissue. The fibroblast synthesizes the collagen and ground substance of the extracellular matrix. These cells make a large amount of protein that they secrete to build the connective tissue layer.artilage. Cartilage is a specialized form of connective tissue produced by differentiated fibroblast-like cells called chondrocytes. It is characterized by a prominent extracellular matrix consisting of various proportions of connective tissue fibers embedded in a gel-like matrix.\\n[R] EXTRACELLULAR MATRIX. The extracellular matrix of connective tissue is composed of ground substance and fibers. In ordinary connective tissue, the ground substanc e consists mainly of water. The principal fiber type is collagen (the most abundant protein in the body), with elastic fibers as a minor element.The extracellular materials which comprise the matrix are produced by fibroblasts.n ordinary connective tissue, the ground substanc e consists mainly of water. The principal fiber type is collagen (the most abundant protein in the body), with elastic fibers as a minor element. The extracellular materials which comprise the matrix are produced by fibroblasts.\\n[S] Although this ground substance forms the fluid medium for the ongoing activity of connective tissue, the most abundant constituents of this intercellular support system are the long white fibers of collagen.\\n[T] Fibroblasts are by far the most common native cell type of connective tissue. The fibroblast synthesizes the collagen and ground substance of the extracellular matrix. These cells make a large amount of protein that they secrete to build the connective tissue layer.Some fibroblasts have a contractile function; these are called myofibroblasts. Chondrocytes and osteocytes form the extracellular matrix of cartilage and bone.earning Objectives. 1 Describe the structural organization of the fibers in the extracellular matrix and the cells residing within connective tissue. 2 Distinguish loose and dense connective tissue using the light microscope. 3 Contrast white and brown adipose tissue.\\nSearch Query: fibroblasts synthesize what of the ground substance.\\nRank the 20 passages above based on their relevance to the search query. All the passages should be included and listed using identifiers, in descending order of relevance. The output format should be [] > [], e.g., [B] > [A], Only respond with the ranking results, do not say any word or explain.\"}, {'from': 'gpt', 'value': '[C] > [H] > [N] > [O] > [T] > [Q] > [P] > [F] > [I] > [B] > [A] > [M] > [J] > [R] > [G] > [K] > [D] > [E] > [L] > [S]'}]}\n"
     ]
    }
   ],
   "source": [
    "print(dataset[\"train\"][0])"
   ]
  },
  {
   "cell_type": "code",
   "execution_count": 9,
   "metadata": {},
   "outputs": [
    {
     "ename": "ModuleNotFoundError",
     "evalue": "No module named 'ir_datasets'",
     "output_type": "error",
     "traceback": [
      "\u001b[0;31m---------------------------------------------------------------------------\u001b[0m",
      "\u001b[0;31mModuleNotFoundError\u001b[0m                       Traceback (most recent call last)",
      "Cell \u001b[0;32mIn[9], line 1\u001b[0m\n\u001b[0;32m----> 1\u001b[0m \u001b[38;5;28;01mimport\u001b[39;00m \u001b[38;5;21;01mir_datasets\u001b[39;00m\n\u001b[1;32m      2\u001b[0m dataset \u001b[38;5;241m=\u001b[39m ir_datasets\u001b[38;5;241m.\u001b[39mload(\u001b[38;5;124m\"\u001b[39m\u001b[38;5;124mmsmarco-document\u001b[39m\u001b[38;5;124m\"\u001b[39m)\n",
      "\u001b[0;31mModuleNotFoundError\u001b[0m: No module named 'ir_datasets'"
     ]
    }
   ],
   "source": []
  },
  {
   "cell_type": "code",
   "execution_count": 10,
   "metadata": {},
   "outputs": [
    {
     "name": "stdout",
     "output_type": "stream",
     "text": [
      "Defaulting to user installation because normal site-packages is not writeable\n",
      "Collecting ir_datasets\n",
      "  Downloading ir_datasets-0.5.9-py3-none-any.whl.metadata (12 kB)\n",
      "Requirement already satisfied: beautifulsoup4>=4.4.1 in /gpfs/home1/scur2847/.local/lib/python3.9/site-packages (from ir_datasets) (4.12.3)\n",
      "Collecting inscriptis>=2.2.0 (from ir_datasets)\n",
      "  Downloading inscriptis-2.5.0-py3-none-any.whl.metadata (25 kB)\n",
      "Requirement already satisfied: lxml>=4.5.2 in /usr/lib64/python3.9/site-packages (from ir_datasets) (4.6.5)\n",
      "Requirement already satisfied: numpy>=1.18.1 in /gpfs/home1/scur2847/.local/lib/python3.9/site-packages (from ir_datasets) (2.0.2)\n",
      "Requirement already satisfied: pyyaml>=5.3.1 in /usr/lib64/python3.9/site-packages (from ir_datasets) (5.4.1)\n",
      "Requirement already satisfied: requests>=2.22.0 in /gpfs/home1/scur2847/.local/lib/python3.9/site-packages (from ir_datasets) (2.32.3)\n",
      "Requirement already satisfied: tqdm>=4.38.0 in /gpfs/home1/scur2847/.local/lib/python3.9/site-packages (from ir_datasets) (4.67.0)\n",
      "Collecting trec-car-tools>=2.5.4 (from ir_datasets)\n",
      "  Downloading trec_car_tools-2.6-py3-none-any.whl.metadata (640 bytes)\n",
      "Collecting lz4>=3.1.10 (from ir_datasets)\n",
      "  Downloading lz4-4.3.3-cp39-cp39-manylinux_2_17_x86_64.manylinux2014_x86_64.whl.metadata (3.7 kB)\n",
      "Collecting warc3-wet>=0.2.3 (from ir_datasets)\n",
      "  Downloading warc3_wet-0.2.5-py3-none-any.whl.metadata (2.2 kB)\n",
      "Collecting warc3-wet-clueweb09>=0.2.5 (from ir_datasets)\n",
      "  Downloading warc3-wet-clueweb09-0.2.5.tar.gz (17 kB)\n",
      "  Installing build dependencies ... \u001b[?25ldone\n",
      "\u001b[?25h  Getting requirements to build wheel ... \u001b[?25ldone\n",
      "\u001b[?25h  Preparing metadata (pyproject.toml) ... \u001b[?25ldone\n",
      "\u001b[?25hCollecting zlib-state>=0.1.3 (from ir_datasets)\n",
      "  Downloading zlib_state-0.1.9-cp39-cp39-manylinux_2_17_x86_64.manylinux2014_x86_64.whl.metadata (3.3 kB)\n",
      "Collecting ijson>=3.1.3 (from ir_datasets)\n",
      "  Downloading ijson-3.3.0-cp39-cp39-manylinux_2_17_x86_64.manylinux2014_x86_64.whl.metadata (21 kB)\n",
      "Collecting unlzw3>=0.2.1 (from ir_datasets)\n",
      "  Downloading unlzw3-0.2.2-py3-none-any.whl.metadata (2.4 kB)\n",
      "Requirement already satisfied: soupsieve>1.2 in /gpfs/home1/scur2847/.local/lib/python3.9/site-packages (from beautifulsoup4>=4.4.1->ir_datasets) (2.6)\n",
      "Collecting lxml>=4.5.2 (from ir_datasets)\n",
      "  Downloading lxml-5.3.0-cp39-cp39-manylinux_2_28_x86_64.whl.metadata (3.8 kB)\n",
      "Requirement already satisfied: charset-normalizer<4,>=2 in /gpfs/home1/scur2847/.local/lib/python3.9/site-packages (from requests>=2.22.0->ir_datasets) (3.4.0)\n",
      "Requirement already satisfied: idna<4,>=2.5 in /usr/lib/python3.9/site-packages (from requests>=2.22.0->ir_datasets) (2.10)\n",
      "Requirement already satisfied: urllib3<3,>=1.21.1 in /usr/lib/python3.9/site-packages (from requests>=2.22.0->ir_datasets) (1.26.5)\n",
      "Requirement already satisfied: certifi>=2017.4.17 in /usr/lib/python3.9/site-packages (from requests>=2.22.0->ir_datasets) (2021.10.8)\n",
      "Collecting cbor>=1.0.0 (from trec-car-tools>=2.5.4->ir_datasets)\n",
      "  Downloading cbor-1.0.0.tar.gz (20 kB)\n",
      "  Installing build dependencies ... \u001b[?25ldone\n",
      "\u001b[?25h  Getting requirements to build wheel ... \u001b[?25ldone\n",
      "\u001b[?25h  Preparing metadata (pyproject.toml) ... \u001b[?25ldone\n",
      "\u001b[?25hDownloading ir_datasets-0.5.9-py3-none-any.whl (347 kB)\n",
      "Downloading ijson-3.3.0-cp39-cp39-manylinux_2_17_x86_64.manylinux2014_x86_64.whl (113 kB)\n",
      "Downloading inscriptis-2.5.0-py3-none-any.whl (45 kB)\n",
      "Downloading lxml-5.3.0-cp39-cp39-manylinux_2_28_x86_64.whl (5.0 MB)\n",
      "\u001b[2K   \u001b[38;2;114;156;31m━━━━━━━━━━━━━━━━━━━━━━━━━━━━━━━━━━━━━━━━\u001b[0m \u001b[32m5.0/5.0 MB\u001b[0m \u001b[31m56.0 MB/s\u001b[0m eta \u001b[36m0:00:00\u001b[0m\n",
      "\u001b[?25hDownloading lz4-4.3.3-cp39-cp39-manylinux_2_17_x86_64.manylinux2014_x86_64.whl (1.3 MB)\n",
      "\u001b[2K   \u001b[38;2;114;156;31m━━━━━━━━━━━━━━━━━━━━━━━━━━━━━━━━━━━━━━━━\u001b[0m \u001b[32m1.3/1.3 MB\u001b[0m \u001b[31m57.7 MB/s\u001b[0m eta \u001b[36m0:00:00\u001b[0m\n",
      "\u001b[?25hDownloading trec_car_tools-2.6-py3-none-any.whl (8.4 kB)\n",
      "Downloading unlzw3-0.2.2-py3-none-any.whl (6.1 kB)\n",
      "Downloading warc3_wet-0.2.5-py3-none-any.whl (18 kB)\n",
      "Downloading zlib_state-0.1.9-cp39-cp39-manylinux_2_17_x86_64.manylinux2014_x86_64.whl (21 kB)\n",
      "Building wheels for collected packages: warc3-wet-clueweb09, cbor\n",
      "  Building wheel for warc3-wet-clueweb09 (pyproject.toml) ... \u001b[?25ldone\n",
      "\u001b[?25h  Created wheel for warc3-wet-clueweb09: filename=warc3_wet_clueweb09-0.2.5-py3-none-any.whl size=18918 sha256=283bdc7d4b196bd38a81eb9474b4ad2b8d9cede8d63bb8dac83a303bc380ccf3\n",
      "  Stored in directory: /gpfs/home1/scur2847/.cache/pip/wheels/7f/22/ed/a11944d7fdf4e94c4206a3f760d385122a4d34d8acc12f71a3\n",
      "  Building wheel for cbor (pyproject.toml) ... \u001b[?25ldone\n",
      "\u001b[?25h  Created wheel for cbor: filename=cbor-1.0.0-cp39-cp39-linux_x86_64.whl size=53448 sha256=29c880a5c18345cafdc7ae3b7a07965b445ffff3484fd97f3814c66d7f541dbc\n",
      "  Stored in directory: /gpfs/home1/scur2847/.cache/pip/wheels/ec/10/03/a281e0682ddd4b310431fb25d1a4f53987105267cf46c417f3\n",
      "Successfully built warc3-wet-clueweb09 cbor\n",
      "\u001b[33mWARNING: Error parsing dependencies of ganesha-top: Invalid version: '5.7-ibm019.00'\u001b[0m\u001b[33m\n",
      "\u001b[0m\u001b[33mWARNING: Error parsing dependencies of ganeshactl: Invalid version: '5.7-ibm019.00'\u001b[0m\u001b[33m\n",
      "\u001b[0mInstalling collected packages: warc3-wet-clueweb09, warc3-wet, ijson, cbor, zlib-state, unlzw3, trec-car-tools, lz4, lxml, inscriptis, ir_datasets\n",
      "Successfully installed cbor-1.0.0 ijson-3.3.0 inscriptis-2.5.0 ir_datasets-0.5.9 lxml-5.3.0 lz4-4.3.3 trec-car-tools-2.6 unlzw3-0.2.2 warc3-wet-0.2.5 warc3-wet-clueweb09-0.2.5 zlib-state-0.1.9\n",
      "Note: you may need to restart the kernel to use updated packages.\n"
     ]
    }
   ],
   "source": [
    "pip install --upgrade ir_datasets"
   ]
  },
  {
   "cell_type": "code",
   "execution_count": 11,
   "metadata": {},
   "outputs": [],
   "source": [
    "import ir_datasets\n",
    "dataset = ir_datasets.load(\"msmarco-document\")"
   ]
  },
  {
   "cell_type": "code",
   "execution_count": 17,
   "metadata": {},
   "outputs": [
    {
     "name": "stdout",
     "output_type": "stream",
     "text": [
      "Dataset(id='msmarco-document', provides=['docs'])\n"
     ]
    }
   ],
   "source": [
    "print(dataset)"
   ]
  },
  {
   "cell_type": "code",
   "execution_count": 1,
   "metadata": {},
   "outputs": [
    {
     "name": "stdout",
     "output_type": "stream",
     "text": [
      "Dataset(id='msmarco-passage-v2/train', provides=['docs', 'queries', 'qrels', 'scoreddocs'])\n"
     ]
    }
   ],
   "source": [
    "import ir_datasets\n",
    "dataset = ir_datasets.load(\"msmarco-passage-v2/train\")\n",
    "print(dataset)"
   ]
  },
  {
   "cell_type": "code",
   "execution_count": 2,
   "metadata": {},
   "outputs": [
    {
     "name": "stderr",
     "output_type": "stream",
     "text": [
      "[INFO] Please confirm you agree to the MSMARCO data usage agreement found at <http://www.msmarco.org/dataset.aspx>\n",
      "[INFO] If you have a local copy of https://msmarco.z22.web.core.windows.net/msmarcoranking/msmarco_v2_passage.tar, you can symlink it here to avoid downloading it again: /home/scur2847/.ir_datasets/downloads/05946bac48a8ffee62e160213eab3fda\n",
      "[INFO] [starting] https://msmarco.z22.web.core.windows.net/msmarcoranking/msmarco_v2_passage.tar\n",
      "[INFO] [error] https://msmarco.z22.web.core.windows.net/msmarcoranking/msmarco_v2_passage.tar: [02:33] [2.24GB] [14.7MB/s] \n",
      "                                                                                                           \r"
     ]
    },
    {
     "ename": "KeyboardInterrupt",
     "evalue": "",
     "output_type": "error",
     "traceback": [
      "\u001b[0;31m---------------------------------------------------------------------------\u001b[0m",
      "\u001b[0;31mKeyboardInterrupt\u001b[0m                         Traceback (most recent call last)",
      "Cell \u001b[0;32mIn[2], line 1\u001b[0m\n\u001b[0;32m----> 1\u001b[0m \u001b[38;5;28;01mfor\u001b[39;00m doc \u001b[38;5;129;01min\u001b[39;00m dataset\u001b[38;5;241m.\u001b[39mdocs_iter():\n\u001b[1;32m      2\u001b[0m     \u001b[38;5;28mprint\u001b[39m(doc)\n",
      "File \u001b[0;32m~/.local/lib/python3.9/site-packages/ir_datasets/util/__init__.py:147\u001b[0m, in \u001b[0;36mDocstoreSplitter.__next__\u001b[0;34m(self)\u001b[0m\n\u001b[1;32m    146\u001b[0m \u001b[38;5;28;01mdef\u001b[39;00m \u001b[38;5;21m__next__\u001b[39m(\u001b[38;5;28mself\u001b[39m):\n\u001b[0;32m--> 147\u001b[0m     \u001b[38;5;28;01mreturn\u001b[39;00m \u001b[38;5;28;43mnext\u001b[39;49m\u001b[43m(\u001b[49m\u001b[38;5;28;43mself\u001b[39;49m\u001b[38;5;241;43m.\u001b[39;49m\u001b[43mit\u001b[49m\u001b[43m)\u001b[49m\n",
      "File \u001b[0;32m~/.local/lib/python3.9/site-packages/ir_datasets/datasets/msmarco_passage_v2.py:62\u001b[0m, in \u001b[0;36mMsMarcoV2Passages.docs_iter\u001b[0;34m(self)\u001b[0m\n\u001b[1;32m     60\u001b[0m     \u001b[38;5;28;01myield from\u001b[39;00m \u001b[38;5;28mself\u001b[39m\u001b[38;5;241m.\u001b[39mdocs_store()\n\u001b[1;32m     61\u001b[0m \u001b[38;5;28;01melse\u001b[39;00m:\n\u001b[0;32m---> 62\u001b[0m     \u001b[38;5;28;01mwith\u001b[39;00m \u001b[38;5;28mself\u001b[39m\u001b[38;5;241m.\u001b[39m_dlc\u001b[38;5;241m.\u001b[39mstream() \u001b[38;5;28;01mas\u001b[39;00m stream, \\\n\u001b[1;32m     63\u001b[0m          tarfile\u001b[38;5;241m.\u001b[39mopen(fileobj\u001b[38;5;241m=\u001b[39mstream, mode\u001b[38;5;241m=\u001b[39m\u001b[38;5;124m'\u001b[39m\u001b[38;5;124mr|\u001b[39m\u001b[38;5;124m'\u001b[39m) \u001b[38;5;28;01mas\u001b[39;00m tarf:\n\u001b[1;32m     64\u001b[0m         \u001b[38;5;28;01mfor\u001b[39;00m record \u001b[38;5;129;01min\u001b[39;00m tarf:\n\u001b[1;32m     65\u001b[0m             \u001b[38;5;28;01mif\u001b[39;00m \u001b[38;5;129;01mnot\u001b[39;00m record\u001b[38;5;241m.\u001b[39mname\u001b[38;5;241m.\u001b[39mendswith(\u001b[38;5;124m'\u001b[39m\u001b[38;5;124m.gz\u001b[39m\u001b[38;5;124m'\u001b[39m):\n",
      "File \u001b[0;32m/usr/lib64/python3.9/contextlib.py:119\u001b[0m, in \u001b[0;36m_GeneratorContextManager.__enter__\u001b[0;34m(self)\u001b[0m\n\u001b[1;32m    117\u001b[0m \u001b[38;5;28;01mdel\u001b[39;00m \u001b[38;5;28mself\u001b[39m\u001b[38;5;241m.\u001b[39margs, \u001b[38;5;28mself\u001b[39m\u001b[38;5;241m.\u001b[39mkwds, \u001b[38;5;28mself\u001b[39m\u001b[38;5;241m.\u001b[39mfunc\n\u001b[1;32m    118\u001b[0m \u001b[38;5;28;01mtry\u001b[39;00m:\n\u001b[0;32m--> 119\u001b[0m     \u001b[38;5;28;01mreturn\u001b[39;00m \u001b[38;5;28;43mnext\u001b[39;49m\u001b[43m(\u001b[49m\u001b[38;5;28;43mself\u001b[39;49m\u001b[38;5;241;43m.\u001b[39;49m\u001b[43mgen\u001b[49m\u001b[43m)\u001b[49m\n\u001b[1;32m    120\u001b[0m \u001b[38;5;28;01mexcept\u001b[39;00m \u001b[38;5;167;01mStopIteration\u001b[39;00m:\n\u001b[1;32m    121\u001b[0m     \u001b[38;5;28;01mraise\u001b[39;00m \u001b[38;5;167;01mRuntimeError\u001b[39;00m(\u001b[38;5;124m\"\u001b[39m\u001b[38;5;124mgenerator didn\u001b[39m\u001b[38;5;124m'\u001b[39m\u001b[38;5;124mt yield\u001b[39m\u001b[38;5;124m\"\u001b[39m) \u001b[38;5;28;01mfrom\u001b[39;00m \u001b[38;5;28;01mNone\u001b[39;00m\n",
      "File \u001b[0;32m~/.local/lib/python3.9/site-packages/ir_datasets/util/download.py:290\u001b[0m, in \u001b[0;36mDownload.stream\u001b[0;34m(self)\u001b[0m\n\u001b[1;32m    288\u001b[0m         \u001b[38;5;28;01myield\u001b[39;00m stream\n\u001b[1;32m    289\u001b[0m \u001b[38;5;28;01melse\u001b[39;00m:\n\u001b[0;32m--> 290\u001b[0m     \u001b[38;5;28;01mwith\u001b[39;00m \u001b[38;5;28mopen\u001b[39m(\u001b[38;5;28;43mself\u001b[39;49m\u001b[38;5;241;43m.\u001b[39;49m\u001b[43mpath\u001b[49m\u001b[43m(\u001b[49m\u001b[43m)\u001b[49m, \u001b[38;5;124m'\u001b[39m\u001b[38;5;124mrb\u001b[39m\u001b[38;5;124m'\u001b[39m) \u001b[38;5;28;01mas\u001b[39;00m f:\n\u001b[1;32m    291\u001b[0m         \u001b[38;5;28;01myield\u001b[39;00m f\n",
      "File \u001b[0;32m~/.local/lib/python3.9/site-packages/ir_datasets/util/download.py:267\u001b[0m, in \u001b[0;36mDownload.path\u001b[0;34m(self, force)\u001b[0m\n\u001b[1;32m    265\u001b[0m         \u001b[38;5;28;01mwith\u001b[39;00m mirror\u001b[38;5;241m.\u001b[39mstream() \u001b[38;5;28;01mas\u001b[39;00m stream:\n\u001b[1;32m    266\u001b[0m             stream \u001b[38;5;241m=\u001b[39m util\u001b[38;5;241m.\u001b[39mHashStream(stream, \u001b[38;5;28mself\u001b[39m\u001b[38;5;241m.\u001b[39mexpected_md5, algo\u001b[38;5;241m=\u001b[39m\u001b[38;5;124m'\u001b[39m\u001b[38;5;124mmd5\u001b[39m\u001b[38;5;124m'\u001b[39m)\n\u001b[0;32m--> 267\u001b[0m             \u001b[43mshutil\u001b[49m\u001b[38;5;241;43m.\u001b[39;49m\u001b[43mcopyfileobj\u001b[49m\u001b[43m(\u001b[49m\u001b[43mstream\u001b[49m\u001b[43m,\u001b[49m\u001b[43m \u001b[49m\u001b[43mf\u001b[49m\u001b[43m)\u001b[49m\n\u001b[1;32m    268\u001b[0m             \u001b[38;5;28;01mbreak\u001b[39;00m\n\u001b[1;32m    269\u001b[0m \u001b[38;5;28;01mexcept\u001b[39;00m \u001b[38;5;167;01mException\u001b[39;00m \u001b[38;5;28;01mas\u001b[39;00m e:\n",
      "File \u001b[0;32m/usr/lib64/python3.9/shutil.py:205\u001b[0m, in \u001b[0;36mcopyfileobj\u001b[0;34m(fsrc, fdst, length)\u001b[0m\n\u001b[1;32m    203\u001b[0m fdst_write \u001b[38;5;241m=\u001b[39m fdst\u001b[38;5;241m.\u001b[39mwrite\n\u001b[1;32m    204\u001b[0m \u001b[38;5;28;01mwhile\u001b[39;00m \u001b[38;5;28;01mTrue\u001b[39;00m:\n\u001b[0;32m--> 205\u001b[0m     buf \u001b[38;5;241m=\u001b[39m \u001b[43mfsrc_read\u001b[49m\u001b[43m(\u001b[49m\u001b[43mlength\u001b[49m\u001b[43m)\u001b[49m\n\u001b[1;32m    206\u001b[0m     \u001b[38;5;28;01mif\u001b[39;00m \u001b[38;5;129;01mnot\u001b[39;00m buf:\n\u001b[1;32m    207\u001b[0m         \u001b[38;5;28;01mbreak\u001b[39;00m\n",
      "File \u001b[0;32m~/.local/lib/python3.9/site-packages/ir_datasets/util/hash.py:48\u001b[0m, in \u001b[0;36mHashStream.readinto\u001b[0;34m(self, b)\u001b[0m\n\u001b[1;32m     47\u001b[0m \u001b[38;5;28;01mdef\u001b[39;00m \u001b[38;5;21mreadinto\u001b[39m(\u001b[38;5;28mself\u001b[39m, b):\n\u001b[0;32m---> 48\u001b[0m     count \u001b[38;5;241m=\u001b[39m \u001b[38;5;28;43mself\u001b[39;49m\u001b[38;5;241;43m.\u001b[39;49m\u001b[43m_stream\u001b[49m\u001b[38;5;241;43m.\u001b[39;49m\u001b[43mreadinto\u001b[49m\u001b[43m(\u001b[49m\u001b[43mb\u001b[49m\u001b[43m)\u001b[49m\n\u001b[1;32m     49\u001b[0m     \u001b[38;5;28mself\u001b[39m\u001b[38;5;241m.\u001b[39m_verifier\u001b[38;5;241m.\u001b[39mupdate(b[:count])\n\u001b[1;32m     50\u001b[0m     \u001b[38;5;28;01mif\u001b[39;00m count \u001b[38;5;241m==\u001b[39m \u001b[38;5;241m0\u001b[39m:\n",
      "File \u001b[0;32m~/.local/lib/python3.9/site-packages/ir_datasets/util/fileio.py:35\u001b[0m, in \u001b[0;36mIterStream.readinto\u001b[0;34m(self, b)\u001b[0m\n\u001b[1;32m     33\u001b[0m \u001b[38;5;28;01mwhile\u001b[39;00m pos \u001b[38;5;241m<\u001b[39m \u001b[38;5;28mlen\u001b[39m(b):\n\u001b[1;32m     34\u001b[0m     l \u001b[38;5;241m=\u001b[39m \u001b[38;5;28mlen\u001b[39m(b) \u001b[38;5;241m-\u001b[39m pos  \u001b[38;5;66;03m# We're supposed to return at most this much\u001b[39;00m\n\u001b[0;32m---> 35\u001b[0m     chunk \u001b[38;5;241m=\u001b[39m \u001b[38;5;28mself\u001b[39m\u001b[38;5;241m.\u001b[39mleftover \u001b[38;5;129;01mor\u001b[39;00m \u001b[38;5;28;43mnext\u001b[39;49m\u001b[43m(\u001b[49m\u001b[38;5;28;43mself\u001b[39;49m\u001b[38;5;241;43m.\u001b[39;49m\u001b[43mit\u001b[49m\u001b[43m)\u001b[49m\n\u001b[1;32m     36\u001b[0m     output, \u001b[38;5;28mself\u001b[39m\u001b[38;5;241m.\u001b[39mleftover \u001b[38;5;241m=\u001b[39m chunk[:l], chunk[l:]\n\u001b[1;32m     37\u001b[0m     b[pos:pos\u001b[38;5;241m+\u001b[39m\u001b[38;5;28mlen\u001b[39m(output)] \u001b[38;5;241m=\u001b[39m output\n",
      "File \u001b[0;32m~/.local/lib/python3.9/site-packages/ir_datasets/util/download.py:112\u001b[0m, in \u001b[0;36mRequestsDownload.__iter__\u001b[0;34m(self)\u001b[0m\n\u001b[1;32m    110\u001b[0m         pbar_f \u001b[38;5;241m=\u001b[39m \u001b[38;5;28;01mNone\u001b[39;00m \u001b[38;5;66;03m# defaults to stderr\u001b[39;00m\n\u001b[1;32m    111\u001b[0m     pbar \u001b[38;5;241m=\u001b[39m stack\u001b[38;5;241m.\u001b[39menter_context(_logger\u001b[38;5;241m.\u001b[39mpbar_raw(desc\u001b[38;5;241m=\u001b[39m\u001b[38;5;28mself\u001b[39m\u001b[38;5;241m.\u001b[39murl, total\u001b[38;5;241m=\u001b[39mdlen, unit\u001b[38;5;241m=\u001b[39m\u001b[38;5;124m'\u001b[39m\u001b[38;5;124mB\u001b[39m\u001b[38;5;124m'\u001b[39m, unit_scale\u001b[38;5;241m=\u001b[39m\u001b[38;5;28;01mTrue\u001b[39;00m, bar_format\u001b[38;5;241m=\u001b[39mfmt, file\u001b[38;5;241m=\u001b[39mpbar_f))\n\u001b[0;32m--> 112\u001b[0m \u001b[38;5;28;01mfor\u001b[39;00m data \u001b[38;5;129;01min\u001b[39;00m \u001b[38;5;28mself\u001b[39m\u001b[38;5;241m.\u001b[39m_iter_response_data(response, http_args, skip):\n\u001b[1;32m    113\u001b[0m     pbar\u001b[38;5;241m.\u001b[39mupdate(\u001b[38;5;28mlen\u001b[39m(data))\n\u001b[1;32m    114\u001b[0m     \u001b[38;5;28;01mif\u001b[39;00m response\u001b[38;5;241m.\u001b[39mheaders\u001b[38;5;241m.\u001b[39mget(\u001b[38;5;124m'\u001b[39m\u001b[38;5;124maccept-ranges\u001b[39m\u001b[38;5;124m'\u001b[39m) \u001b[38;5;241m==\u001b[39m \u001b[38;5;124m'\u001b[39m\u001b[38;5;124mbytes\u001b[39m\u001b[38;5;124m'\u001b[39m:\n\u001b[1;32m    115\u001b[0m         \u001b[38;5;66;03m# since we got more data and the server accepts range requests, reset the \"tries\" counter\u001b[39;00m\n",
      "File \u001b[0;32m~/.local/lib/python3.9/site-packages/ir_datasets/util/download.py:160\u001b[0m, in \u001b[0;36mRequestsDownload._iter_response_data\u001b[0;34m(self, response, http_args, skip)\u001b[0m\n\u001b[1;32m    158\u001b[0m \u001b[38;5;28;01melse\u001b[39;00m:\n\u001b[1;32m    159\u001b[0m     data_iter \u001b[38;5;241m=\u001b[39m response\u001b[38;5;241m.\u001b[39miter_content(chunk_size\u001b[38;5;241m=\u001b[39mio\u001b[38;5;241m.\u001b[39mDEFAULT_BUFFER_SIZE)\n\u001b[0;32m--> 160\u001b[0m \u001b[38;5;28;01mfor\u001b[39;00m data \u001b[38;5;129;01min\u001b[39;00m data_iter:\n\u001b[1;32m    161\u001b[0m     \u001b[38;5;28;01mif\u001b[39;00m skip \u001b[38;5;241m>\u001b[39m \u001b[38;5;241m0\u001b[39m:\n\u001b[1;32m    162\u001b[0m         data, skipped \u001b[38;5;241m=\u001b[39m data[skip:], \u001b[38;5;28mlen\u001b[39m(data[:skip])\n",
      "File \u001b[0;32m~/.local/lib/python3.9/site-packages/requests/models.py:820\u001b[0m, in \u001b[0;36mResponse.iter_content.<locals>.generate\u001b[0;34m()\u001b[0m\n\u001b[1;32m    818\u001b[0m \u001b[38;5;28;01mif\u001b[39;00m \u001b[38;5;28mhasattr\u001b[39m(\u001b[38;5;28mself\u001b[39m\u001b[38;5;241m.\u001b[39mraw, \u001b[38;5;124m\"\u001b[39m\u001b[38;5;124mstream\u001b[39m\u001b[38;5;124m\"\u001b[39m):\n\u001b[1;32m    819\u001b[0m     \u001b[38;5;28;01mtry\u001b[39;00m:\n\u001b[0;32m--> 820\u001b[0m         \u001b[38;5;28;01myield from\u001b[39;00m \u001b[38;5;28mself\u001b[39m\u001b[38;5;241m.\u001b[39mraw\u001b[38;5;241m.\u001b[39mstream(chunk_size, decode_content\u001b[38;5;241m=\u001b[39m\u001b[38;5;28;01mTrue\u001b[39;00m)\n\u001b[1;32m    821\u001b[0m     \u001b[38;5;28;01mexcept\u001b[39;00m ProtocolError \u001b[38;5;28;01mas\u001b[39;00m e:\n\u001b[1;32m    822\u001b[0m         \u001b[38;5;28;01mraise\u001b[39;00m ChunkedEncodingError(e)\n",
      "File \u001b[0;32m/usr/lib/python3.9/site-packages/urllib3/response.py:576\u001b[0m, in \u001b[0;36mHTTPResponse.stream\u001b[0;34m(self, amt, decode_content)\u001b[0m\n\u001b[1;32m    574\u001b[0m \u001b[38;5;28;01melse\u001b[39;00m:\n\u001b[1;32m    575\u001b[0m     \u001b[38;5;28;01mwhile\u001b[39;00m \u001b[38;5;129;01mnot\u001b[39;00m is_fp_closed(\u001b[38;5;28mself\u001b[39m\u001b[38;5;241m.\u001b[39m_fp):\n\u001b[0;32m--> 576\u001b[0m         data \u001b[38;5;241m=\u001b[39m \u001b[38;5;28;43mself\u001b[39;49m\u001b[38;5;241;43m.\u001b[39;49m\u001b[43mread\u001b[49m\u001b[43m(\u001b[49m\u001b[43mamt\u001b[49m\u001b[38;5;241;43m=\u001b[39;49m\u001b[43mamt\u001b[49m\u001b[43m,\u001b[49m\u001b[43m \u001b[49m\u001b[43mdecode_content\u001b[49m\u001b[38;5;241;43m=\u001b[39;49m\u001b[43mdecode_content\u001b[49m\u001b[43m)\u001b[49m\n\u001b[1;32m    578\u001b[0m         \u001b[38;5;28;01mif\u001b[39;00m data:\n\u001b[1;32m    579\u001b[0m             \u001b[38;5;28;01myield\u001b[39;00m data\n",
      "File \u001b[0;32m/usr/lib/python3.9/site-packages/urllib3/response.py:519\u001b[0m, in \u001b[0;36mHTTPResponse.read\u001b[0;34m(self, amt, decode_content, cache_content)\u001b[0m\n\u001b[1;32m    517\u001b[0m \u001b[38;5;28;01melse\u001b[39;00m:\n\u001b[1;32m    518\u001b[0m     cache_content \u001b[38;5;241m=\u001b[39m \u001b[38;5;28;01mFalse\u001b[39;00m\n\u001b[0;32m--> 519\u001b[0m     data \u001b[38;5;241m=\u001b[39m \u001b[38;5;28;43mself\u001b[39;49m\u001b[38;5;241;43m.\u001b[39;49m\u001b[43m_fp\u001b[49m\u001b[38;5;241;43m.\u001b[39;49m\u001b[43mread\u001b[49m\u001b[43m(\u001b[49m\u001b[43mamt\u001b[49m\u001b[43m)\u001b[49m \u001b[38;5;28;01mif\u001b[39;00m \u001b[38;5;129;01mnot\u001b[39;00m fp_closed \u001b[38;5;28;01melse\u001b[39;00m \u001b[38;5;124mb\u001b[39m\u001b[38;5;124m\"\u001b[39m\u001b[38;5;124m\"\u001b[39m\n\u001b[1;32m    520\u001b[0m     \u001b[38;5;28;01mif\u001b[39;00m (\n\u001b[1;32m    521\u001b[0m         amt \u001b[38;5;241m!=\u001b[39m \u001b[38;5;241m0\u001b[39m \u001b[38;5;129;01mand\u001b[39;00m \u001b[38;5;129;01mnot\u001b[39;00m data\n\u001b[1;32m    522\u001b[0m     ):  \u001b[38;5;66;03m# Platform-specific: Buggy versions of Python.\u001b[39;00m\n\u001b[0;32m   (...)\u001b[0m\n\u001b[1;32m    528\u001b[0m         \u001b[38;5;66;03m# not properly close the connection in all cases. There is\u001b[39;00m\n\u001b[1;32m    529\u001b[0m         \u001b[38;5;66;03m# no harm in redundantly calling close.\u001b[39;00m\n\u001b[1;32m    530\u001b[0m         \u001b[38;5;28mself\u001b[39m\u001b[38;5;241m.\u001b[39m_fp\u001b[38;5;241m.\u001b[39mclose()\n",
      "File \u001b[0;32m/usr/lib64/python3.9/http/client.py:463\u001b[0m, in \u001b[0;36mHTTPResponse.read\u001b[0;34m(self, amt)\u001b[0m\n\u001b[1;32m    460\u001b[0m \u001b[38;5;28;01mif\u001b[39;00m amt \u001b[38;5;129;01mis\u001b[39;00m \u001b[38;5;129;01mnot\u001b[39;00m \u001b[38;5;28;01mNone\u001b[39;00m:\n\u001b[1;32m    461\u001b[0m     \u001b[38;5;66;03m# Amount is given, implement using readinto\u001b[39;00m\n\u001b[1;32m    462\u001b[0m     b \u001b[38;5;241m=\u001b[39m \u001b[38;5;28mbytearray\u001b[39m(amt)\n\u001b[0;32m--> 463\u001b[0m     n \u001b[38;5;241m=\u001b[39m \u001b[38;5;28;43mself\u001b[39;49m\u001b[38;5;241;43m.\u001b[39;49m\u001b[43mreadinto\u001b[49m\u001b[43m(\u001b[49m\u001b[43mb\u001b[49m\u001b[43m)\u001b[49m\n\u001b[1;32m    464\u001b[0m     \u001b[38;5;28;01mreturn\u001b[39;00m \u001b[38;5;28mmemoryview\u001b[39m(b)[:n]\u001b[38;5;241m.\u001b[39mtobytes()\n\u001b[1;32m    465\u001b[0m \u001b[38;5;28;01melse\u001b[39;00m:\n\u001b[1;32m    466\u001b[0m     \u001b[38;5;66;03m# Amount is not given (unbounded read) so we must check self.length\u001b[39;00m\n\u001b[1;32m    467\u001b[0m     \u001b[38;5;66;03m# and self.chunked\u001b[39;00m\n",
      "File \u001b[0;32m/usr/lib64/python3.9/http/client.py:507\u001b[0m, in \u001b[0;36mHTTPResponse.readinto\u001b[0;34m(self, b)\u001b[0m\n\u001b[1;32m    502\u001b[0m         b \u001b[38;5;241m=\u001b[39m \u001b[38;5;28mmemoryview\u001b[39m(b)[\u001b[38;5;241m0\u001b[39m:\u001b[38;5;28mself\u001b[39m\u001b[38;5;241m.\u001b[39mlength]\n\u001b[1;32m    504\u001b[0m \u001b[38;5;66;03m# we do not use _safe_read() here because this may be a .will_close\u001b[39;00m\n\u001b[1;32m    505\u001b[0m \u001b[38;5;66;03m# connection, and the user is reading more bytes than will be provided\u001b[39;00m\n\u001b[1;32m    506\u001b[0m \u001b[38;5;66;03m# (for example, reading in 1k chunks)\u001b[39;00m\n\u001b[0;32m--> 507\u001b[0m n \u001b[38;5;241m=\u001b[39m \u001b[38;5;28;43mself\u001b[39;49m\u001b[38;5;241;43m.\u001b[39;49m\u001b[43mfp\u001b[49m\u001b[38;5;241;43m.\u001b[39;49m\u001b[43mreadinto\u001b[49m\u001b[43m(\u001b[49m\u001b[43mb\u001b[49m\u001b[43m)\u001b[49m\n\u001b[1;32m    508\u001b[0m \u001b[38;5;28;01mif\u001b[39;00m \u001b[38;5;129;01mnot\u001b[39;00m n \u001b[38;5;129;01mand\u001b[39;00m b:\n\u001b[1;32m    509\u001b[0m     \u001b[38;5;66;03m# Ideally, we would raise IncompleteRead if the content-length\u001b[39;00m\n\u001b[1;32m    510\u001b[0m     \u001b[38;5;66;03m# wasn't satisfied, but it might break compatibility.\u001b[39;00m\n\u001b[1;32m    511\u001b[0m     \u001b[38;5;28mself\u001b[39m\u001b[38;5;241m.\u001b[39m_close_conn()\n",
      "File \u001b[0;32m/usr/lib64/python3.9/socket.py:704\u001b[0m, in \u001b[0;36mSocketIO.readinto\u001b[0;34m(self, b)\u001b[0m\n\u001b[1;32m    702\u001b[0m \u001b[38;5;28;01mwhile\u001b[39;00m \u001b[38;5;28;01mTrue\u001b[39;00m:\n\u001b[1;32m    703\u001b[0m     \u001b[38;5;28;01mtry\u001b[39;00m:\n\u001b[0;32m--> 704\u001b[0m         \u001b[38;5;28;01mreturn\u001b[39;00m \u001b[38;5;28;43mself\u001b[39;49m\u001b[38;5;241;43m.\u001b[39;49m\u001b[43m_sock\u001b[49m\u001b[38;5;241;43m.\u001b[39;49m\u001b[43mrecv_into\u001b[49m\u001b[43m(\u001b[49m\u001b[43mb\u001b[49m\u001b[43m)\u001b[49m\n\u001b[1;32m    705\u001b[0m     \u001b[38;5;28;01mexcept\u001b[39;00m timeout:\n\u001b[1;32m    706\u001b[0m         \u001b[38;5;28mself\u001b[39m\u001b[38;5;241m.\u001b[39m_timeout_occurred \u001b[38;5;241m=\u001b[39m \u001b[38;5;28;01mTrue\u001b[39;00m\n",
      "File \u001b[0;32m/usr/lib64/python3.9/ssl.py:1275\u001b[0m, in \u001b[0;36mSSLSocket.recv_into\u001b[0;34m(self, buffer, nbytes, flags)\u001b[0m\n\u001b[1;32m   1271\u001b[0m     \u001b[38;5;28;01mif\u001b[39;00m flags \u001b[38;5;241m!=\u001b[39m \u001b[38;5;241m0\u001b[39m:\n\u001b[1;32m   1272\u001b[0m         \u001b[38;5;28;01mraise\u001b[39;00m \u001b[38;5;167;01mValueError\u001b[39;00m(\n\u001b[1;32m   1273\u001b[0m           \u001b[38;5;124m\"\u001b[39m\u001b[38;5;124mnon-zero flags not allowed in calls to recv_into() on \u001b[39m\u001b[38;5;132;01m%s\u001b[39;00m\u001b[38;5;124m\"\u001b[39m \u001b[38;5;241m%\u001b[39m\n\u001b[1;32m   1274\u001b[0m           \u001b[38;5;28mself\u001b[39m\u001b[38;5;241m.\u001b[39m\u001b[38;5;18m__class__\u001b[39m)\n\u001b[0;32m-> 1275\u001b[0m     \u001b[38;5;28;01mreturn\u001b[39;00m \u001b[38;5;28;43mself\u001b[39;49m\u001b[38;5;241;43m.\u001b[39;49m\u001b[43mread\u001b[49m\u001b[43m(\u001b[49m\u001b[43mnbytes\u001b[49m\u001b[43m,\u001b[49m\u001b[43m \u001b[49m\u001b[43mbuffer\u001b[49m\u001b[43m)\u001b[49m\n\u001b[1;32m   1276\u001b[0m \u001b[38;5;28;01melse\u001b[39;00m:\n\u001b[1;32m   1277\u001b[0m     \u001b[38;5;28;01mreturn\u001b[39;00m \u001b[38;5;28msuper\u001b[39m()\u001b[38;5;241m.\u001b[39mrecv_into(buffer, nbytes, flags)\n",
      "File \u001b[0;32m/usr/lib64/python3.9/ssl.py:1133\u001b[0m, in \u001b[0;36mSSLSocket.read\u001b[0;34m(self, len, buffer)\u001b[0m\n\u001b[1;32m   1131\u001b[0m \u001b[38;5;28;01mtry\u001b[39;00m:\n\u001b[1;32m   1132\u001b[0m     \u001b[38;5;28;01mif\u001b[39;00m buffer \u001b[38;5;129;01mis\u001b[39;00m \u001b[38;5;129;01mnot\u001b[39;00m \u001b[38;5;28;01mNone\u001b[39;00m:\n\u001b[0;32m-> 1133\u001b[0m         \u001b[38;5;28;01mreturn\u001b[39;00m \u001b[38;5;28;43mself\u001b[39;49m\u001b[38;5;241;43m.\u001b[39;49m\u001b[43m_sslobj\u001b[49m\u001b[38;5;241;43m.\u001b[39;49m\u001b[43mread\u001b[49m\u001b[43m(\u001b[49m\u001b[38;5;28;43mlen\u001b[39;49m\u001b[43m,\u001b[49m\u001b[43m \u001b[49m\u001b[43mbuffer\u001b[49m\u001b[43m)\u001b[49m\n\u001b[1;32m   1134\u001b[0m     \u001b[38;5;28;01melse\u001b[39;00m:\n\u001b[1;32m   1135\u001b[0m         \u001b[38;5;28;01mreturn\u001b[39;00m \u001b[38;5;28mself\u001b[39m\u001b[38;5;241m.\u001b[39m_sslobj\u001b[38;5;241m.\u001b[39mread(\u001b[38;5;28mlen\u001b[39m)\n",
      "\u001b[0;31mKeyboardInterrupt\u001b[0m: "
     ]
    }
   ],
   "source": [
    "for doc in dataset.docs_iter():\n",
    "    print(doc)"
   ]
  },
  {
   "cell_type": "code",
   "execution_count": 5,
   "metadata": {},
   "outputs": [
    {
     "data": {
      "application/vnd.jupyter.widget-view+json": {
       "model_id": "bbe93d4210824224944c0f57c290b329",
       "version_major": 2,
       "version_minor": 0
      },
      "text/plain": [
       "Loading dataset shards:   0%|          | 0/46 [00:00<?, ?it/s]"
      ]
     },
     "metadata": {},
     "output_type": "display_data"
    }
   ],
   "source": [
    "dataset = load_dataset(\"irds/msmarco-document\")  # Change \"v2.1\" to the version you are using\n",
    "\n"
   ]
  },
  {
   "cell_type": "code",
   "execution_count": 6,
   "metadata": {},
   "outputs": [
    {
     "data": {
      "text/plain": [
       "{'doc_id': 'D301595',\n",
       " 'url': 'http://childparenting.about.com/od/physicalemotionalgrowth/tp/Child-Development-Your-Eight-Year-Old-Child.htm',\n",
       " 'title': 'Developmental Milestones and Your 8-Year-Old Child',\n",
       " 'body': 'School-Age Kids Growth & Development\\nDevelopmental Milestones and Your 8-Year-Old Child8-Year-Olds Are Expanding Their Worlds\\nBy Katherine Lee | Reviewed by Joel Forman, MDUpdated February 10, 2018Share Pin Email\\nPrint\\nEight-year-olds are becoming more confident about themselves and who they are.\\nAt age 8, your child will likely have developed some interests and hobbies and will know what he or she likes or doesn\\'t like.\\nAt the same time, children this age are learning more about the world at large and are also better able to navigate social relationships with others more independently, with less guidance from parents.\\nAt home, 8-year-olds are able to tackle more complicated household chores and take on more responsibility for taking care of themselves, even helping out with younger siblings.\\nIn general, according to the CDC, these are some changes you may see in your child:\\nShows more independence from parents and family.\\nStarts to think about the future.\\nUnderstands more about his or her place in the world.\\nPays more attention to friendships and teamwork.\\nWants to be liked and accepted by friends.1 Behavior and Daily Routines\\nFabrice Le\\nRouge/Getty Images\\nThe 8-year-old\\'s behavior and daily routines are shaped by the child\\'s taste, interests, and personality.\\nParents and other significant adults in the child\\'s life should keep in mind the importance of being good role models since this is a time when children are figuring out the world and who they are and how they fit into it.\\nAt this age, your child may get involved with more complex social activities and behaviors that help define his or her sense of self.\\nEffective discipline techniques at this age include continuing to praise good behavior, focusing your child\\'s efforts, what they can do and change, rather than innate traits (such as \"you are smart\").\\nSet up and enforce consistent rules.\\nDiscipline should be aimed at guiding your child rather than punishing.\\nFollow it with a discussion with your child about what she could do differently next time.\\nYour 8-year-old can do more self-care in regards to hygiene and may begin to want to be part of deciding what the family eats.\\nYou might begin to give your child chores to contribute to the maintenance of the household and an allowance to begin to learn to manage money.\\nAt this age, your child still needs 10 to 11 hours of sleep per night.2 Physical Development\\nImage Source/Getty Images\\nFor 8-year-old children, physical development will continue to be more about refinement of skills, coordination, and muscle control rather than huge changes.\\nThey begin to look like \"big kids,\" but puberty is still a couple of years away for most of them.\\nChildren with natural athletic potential may show their abilities at this developmental stage as their physical skills become more precise and accurate.\\nIn fact, this is often the age at which children decide whether they are athletic or not, and choose to participate in or avoid sports.\\nEither way, it\\'s important for parents to encourage physical activity.\\nEven if your child isn\\'t an athlete she can still enjoy running, swimming, biking, and many other types of non-sports-related physical fun.3 Emotional Development\\nJohn Howard/Getty Images\\nEight-year-old emotional development may be growing at a deeper level than in younger years, and an 8-year-old may show more sophisticated and complex emotions and interactions.\\nFor instance, an 8-year-old may mask true thoughts or emotions to spare someone else\\'s feelings or work through a problem without an adult\\'s close supervision or intervention.\\nThis is the time when your child may be developing a more sophisticated sense of himself in the world.\\nHer interests, talents, friends, and relationship with family all help her to establish a clear self-identity.\\nIt\\'s also the beginning of desiring privacy and flip-flopping between self-confidence and self-doubt.\\nIt can be a good time to help your child develop patience and empathy for others.4 Cognitive Development\\nTom Merton/Getty Images\\nEight-year-old children are at a stage of intellectual development where they will be able to pay attention for longer periods of time.\\nYou can expect your child to be able to concentrate on an activity for up to an hour or more.\\nEight-year-olds will also be able to think more critically and express opinions using more complex and sophisticated vocabulary and language skills.5 Social Development\\nChristopher Futcher/Getty Images\\nThis is the phase of social development where many children love being a part of sports teams and other social groups.\\nIn general, 8-year-old children enjoy school and will count on and value relationships with a few close friends and classmates.\\nParents of 8-year-olds should be on the lookout for problems such as school refusal, as this may indicate learning difficulties or being bullied at school.\\nIt is also a good age at which to discuss respecting others.6 What If My Child Is Different?\\nDevelopmental milestones provide professionals and parents with a tool for comparing children to a norm.\\nNo child fits the ideal norm perfectly, and each child will have his or her personal quirks, strengths, challenges, and preferences.\\nWith that said, however, if you feel your child is far behind or ahead of the norm, it\\'s well worth discussing the issue with your pediatrician and your child\\'s teacher.\\nIf there are issues or opportunities, now is the time to learn about and address them.\\nA Word From Verywell\\nYour 8-year-old is in the full bloom of childhood.\\nEnjoy activities and explore the world together.\\nIt\\'s a great time to spark new interests in your child and watch her grow in every way.\\nSources:\\nAnthony, Michelle.\\nThe emotional lives of 8-10-year-olds.\\nScholastic Publishing.\\nChaplin TM, Aldao A.\\nGender differences in emotion expression in children: A meta-analytic review Psychological Bulletin.\\n2013;139 (4):735-765. doi:10.1037/a0030737.\\nMiddle childhood.\\nCDC.\\n\\n'}"
      ]
     },
     "execution_count": 6,
     "metadata": {},
     "output_type": "execute_result"
    }
   ],
   "source": [
    "dataset[1]"
   ]
  },
  {
   "cell_type": "code",
   "execution_count": null,
   "metadata": {},
   "outputs": [],
   "source": [
    "dataset = load_dataset('unicamp-dl/mmarco', 'english')"
   ]
  },
  {
   "cell_type": "code",
   "execution_count": null,
   "metadata": {},
   "outputs": [],
   "source": []
  }
 ],
 "metadata": {
  "kernelspec": {
   "display_name": "Python 3 (ipykernel)",
   "language": "python",
   "name": "python3"
  },
  "language_info": {
   "codemirror_mode": {
    "name": "ipython",
    "version": 3
   },
   "file_extension": ".py",
   "mimetype": "text/x-python",
   "name": "python",
   "nbconvert_exporter": "python",
   "pygments_lexer": "ipython3",
   "version": "3.9.18"
  }
 },
 "nbformat": 4,
 "nbformat_minor": 4
}
